{
 "cells": [
  {
   "cell_type": "code",
   "execution_count": 1,
   "metadata": {},
   "outputs": [
    {
     "data": {
      "text/plain": [
       "True"
      ]
     },
     "execution_count": 1,
     "metadata": {},
     "output_type": "execute_result"
    }
   ],
   "source": [
    "from dotenv import load_dotenv\n",
    "load_dotenv()"
   ]
  },
  {
   "cell_type": "code",
   "execution_count": 2,
   "metadata": {},
   "outputs": [],
   "source": [
    "# LCRL = LangChain Expression Language\n",
    "\n",
    "# prompt\n",
    "from langchain.prompts import PromptTemplate\n",
    "\n",
    "template = \"\"\"\n",
    "당신은 친절하게 답변해 주는 친절 봇입니다. 사용자의 질문에 [FORMAT]에 맞추어 답변해 주세요.\n",
    "답변은 항상 한글로 작성해 주세요.\n",
    "\n",
    "질문:\n",
    "{question}에 대하여 설명해 주세요.\n",
    "\n",
    "FORMAT:\n",
    "- 개요:\n",
    "- 예시:\n",
    "- 출처:\n",
    "\"\"\"\n",
    "prompt = PromptTemplate.from_template(template)"
   ]
  },
  {
   "cell_type": "code",
   "execution_count": 4,
   "metadata": {},
   "outputs": [],
   "source": [
    "# llm \n",
    "from langchain_openai import ChatOpenAI\n",
    "\n",
    "llm  = ChatOpenAI(\n",
    "    model=\"gpt-4o\",\n",
    "    max_tokens=2048,\n",
    "    temperature=0.0,\n",
    ")"
   ]
  },
  {
   "cell_type": "code",
   "execution_count": 5,
   "metadata": {},
   "outputs": [],
   "source": [
    "# output\n",
    "from langchain_core.output_parsers import StrOutputParser\n",
    "\n",
    "output_parser = StrOutputParser()"
   ]
  },
  {
   "cell_type": "code",
   "execution_count": 6,
   "metadata": {},
   "outputs": [
    {
     "name": "stdout",
     "output_type": "stream",
     "text": [
      "- 개요:  \n",
      "아이유(본명: 이지은)는 대한민국의 가수이자 배우로, 2008년에 데뷔하여 현재까지도 큰 인기를 끌고 있는 아티스트입니다. 그녀는 뛰어난 가창력과 감성적인 음악으로 많은 팬들의 사랑을 받고 있으며, 다양한 장르의 음악을 소화하는 능력으로도 유명합니다. 또한, 드라마와 영화에서도 활약하며 다재다능한 엔터테이너로 자리매김하고 있습니다.\n",
      "\n",
      "- 예시:  \n",
      "아이유는 \"좋은 날\", \"너랑 나\", \"밤편지\", \"팔레트\" 등 수많은 히트곡을 보유하고 있습니다. 특히 \"좋은 날\"의 3단 고음은 많은 사람들에게 깊은 인상을 남겼습니다. 배우로서도 \"드림하이\", \"호텔 델루나\", \"나의 아저씨\" 등 다양한 작품에서 주연을 맡아 연기력을 인정받았습니다.\n",
      "\n",
      "- 출처:  \n",
      "아이유의 공식 팬카페, 네이버 프로필, 각종 음악 및 드라마 관련 기사.\n"
     ]
    }
   ],
   "source": [
    "# chain\n",
    "chain = prompt | llm | output_parser \n",
    "\n",
    "print(chain.invoke({\"question\": \"아이유에 대해서 설명해 주세요.\"}))"
   ]
  }
 ],
 "metadata": {
  "kernelspec": {
   "display_name": ".venv",
   "language": "python",
   "name": "python3"
  },
  "language_info": {
   "codemirror_mode": {
    "name": "ipython",
    "version": 3
   },
   "file_extension": ".py",
   "mimetype": "text/x-python",
   "name": "python",
   "nbconvert_exporter": "python",
   "pygments_lexer": "ipython3",
   "version": "3.10.11"
  }
 },
 "nbformat": 4,
 "nbformat_minor": 2
}
