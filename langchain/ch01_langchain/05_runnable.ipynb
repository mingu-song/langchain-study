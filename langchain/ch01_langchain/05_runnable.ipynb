{
 "cells": [
  {
   "cell_type": "code",
   "execution_count": 4,
   "metadata": {},
   "outputs": [
    {
     "data": {
      "text/plain": [
       "True"
      ]
     },
     "execution_count": 4,
     "metadata": {},
     "output_type": "execute_result"
    }
   ],
   "source": [
    "from dotenv import load_dotenv\n",
    "\n",
    "load_dotenv()"
   ]
  },
  {
   "cell_type": "code",
   "execution_count": 7,
   "metadata": {},
   "outputs": [],
   "source": [
    "from langchain.prompts import PromptTemplate\n",
    "from langchain_openai import ChatOpenAI\n",
    "\n",
    "prompt = PromptTemplate.from_template(\"{num} 의 10배는?\")\n",
    "chain = prompt | ChatOpenAI(model=\"gpt-4o\")"
   ]
  },
  {
   "cell_type": "code",
   "execution_count": 8,
   "metadata": {},
   "outputs": [
    {
     "data": {
      "text/plain": [
       "AIMessage(content='5의 10배는 50입니다.', response_metadata={'token_usage': {'completion_tokens': 10, 'prompt_tokens': 14, 'total_tokens': 24}, 'model_name': 'gpt-4o', 'system_fingerprint': 'fp_729ea513f7', 'finish_reason': 'stop', 'logprobs': None}, id='run-8018088b-431c-466f-852f-c08ae26dbefa-0')"
      ]
     },
     "execution_count": 8,
     "metadata": {},
     "output_type": "execute_result"
    }
   ],
   "source": [
    "chain.invoke({\"num\": 5})"
   ]
  },
  {
   "cell_type": "code",
   "execution_count": 11,
   "metadata": {},
   "outputs": [
    {
     "data": {
      "text/plain": [
       "AIMessage(content=\"{'num': 5}의 10배는 50입니다. 이를 계산하기 위해서 'num' 값을 10과 곱하면 됩니다.\\n\\n```python\\ndata = {'num': 5}\\nresult = data['num'] * 10\\nprint(result)  # 출력: 50\\n```\\n\\n따라서 50이 정답입니다.\", response_metadata={'token_usage': {'completion_tokens': 75, 'prompt_tokens': 19, 'total_tokens': 94}, 'model_name': 'gpt-4o', 'system_fingerprint': 'fp_729ea513f7', 'finish_reason': 'stop', 'logprobs': None}, id='run-b6f92501-a271-420a-af7f-26acf9ba9e66-0')"
      ]
     },
     "execution_count": 11,
     "metadata": {},
     "output_type": "execute_result"
    }
   ],
   "source": [
    "# RunnablePassthrough : 입력을 변경하지 않거나 추가 키를 더하여 전달\n",
    "\n",
    "from langchain_core.runnables import RunnablePassthrough\n",
    "\n",
    "runnable_chain = {\"num\": RunnablePassthrough()} | prompt | ChatOpenAI(model=\"gpt-4o\")\n",
    "runnable_chain.invoke({\"num\": 5})"
   ]
  },
  {
   "cell_type": "code",
   "execution_count": 12,
   "metadata": {},
   "outputs": [
    {
     "data": {
      "text/plain": [
       "{'num': 5, 'new_num': 15}"
      ]
     },
     "execution_count": 12,
     "metadata": {},
     "output_type": "execute_result"
    }
   ],
   "source": [
    "(RunnablePassthrough.assign(new_num=lambda x: x[\"num\"] * 3)).invoke({\"num\": 5})"
   ]
  },
  {
   "cell_type": "code",
   "execution_count": 13,
   "metadata": {},
   "outputs": [
    {
     "data": {
      "text/plain": [
       "{'runnable': {'passed': {'num': 5},\n",
       "  'extra': {'num': 5, 'mult': 15},\n",
       "  'modified': 6}}"
      ]
     },
     "execution_count": 13,
     "metadata": {},
     "output_type": "execute_result"
    }
   ],
   "source": [
    "# RunnableParallel : 여러 Runnable을 병렬로 실행\n",
    "\n",
    "from langchain_core.runnables import RunnableParallel\n",
    "\n",
    "runnable = RunnableParallel(\n",
    "    runnable=RunnableParallel(\n",
    "        passed=RunnablePassthrough(),\n",
    "        extra=RunnablePassthrough.assign(mult=lambda x: x[\"num\"] * 3),\n",
    "        modified=lambda x: x[\"num\"] + 1,\n",
    "    ),\n",
    ")\n",
    "\n",
    "runnable.invoke({\"num\": 5})"
   ]
  },
  {
   "cell_type": "code",
   "execution_count": 16,
   "metadata": {},
   "outputs": [
    {
     "data": {
      "text/plain": [
       "75"
      ]
     },
     "execution_count": 16,
     "metadata": {},
     "output_type": "execute_result"
    }
   ],
   "source": [
    "from langchain_core.runnables import RunnableLambda\n",
    "\n",
    "def extra(x):\n",
    "    ext = x['runnable']['extra']  # 'extra': {'num': 5, 'mult': 15}\n",
    "    return int(ext[\"num\"]) * int(ext[\"mult\"])  # 5 * 15\n",
    "\n",
    "(runnable | RunnableLambda(extra)).invoke({\"num\": 5})"
   ]
  }
 ],
 "metadata": {
  "kernelspec": {
   "display_name": "langchain-study",
   "language": "python",
   "name": "python3"
  },
  "language_info": {
   "codemirror_mode": {
    "name": "ipython",
    "version": 3
   },
   "file_extension": ".py",
   "mimetype": "text/x-python",
   "name": "python",
   "nbconvert_exporter": "python",
   "pygments_lexer": "ipython3",
   "version": "3.10.11"
  }
 },
 "nbformat": 4,
 "nbformat_minor": 2
}
