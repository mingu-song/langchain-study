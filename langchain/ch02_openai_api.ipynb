{
 "cells": [
  {
   "cell_type": "code",
   "execution_count": 1,
   "metadata": {},
   "outputs": [
    {
     "data": {
      "text/plain": [
       "True"
      ]
     },
     "execution_count": 1,
     "metadata": {},
     "output_type": "execute_result"
    }
   ],
   "source": [
    "from dotenv import load_dotenv\n",
    "\n",
    "load_dotenv()"
   ]
  },
  {
   "cell_type": "code",
   "execution_count": 4,
   "metadata": {},
   "outputs": [
    {
     "name": "stdout",
     "output_type": "stream",
     "text": [
      "답변: content='서울특별시의 인구는 2023년 기준으로 약 950만 명 정도입니다. 이는 서울시의 공식 통계와 다양한 인구 조사 자료를 바탕으로 한 추정치입니다. 인구는 시간이 지남에 따라 변동될 수 있으므로, 최신 정보를 확인하려면 서울시의 공식 웹사이트나 통계청의 자료를 참조하는 것이 좋습니다.' response_metadata={'token_usage': {'completion_tokens': 85, 'prompt_tokens': 15, 'total_tokens': 100}, 'model_name': 'gpt-4o', 'system_fingerprint': 'fp_729ea513f7', 'finish_reason': 'stop', 'logprobs': None} id='run-9b804f07-1fa7-4b02-9705-75225c6469b8-0'\n"
     ]
    }
   ],
   "source": [
    "from langchain_openai import ChatOpenAI\n",
    "\n",
    "llm = ChatOpenAI(\n",
    "    temperature=0.1,\n",
    "    max_tokens=2048,\n",
    "    model_name=\"gpt-4o\",\n",
    ")\n",
    "\n",
    "question = \"서울 인구는 몇명인가?\"\n",
    "print(f\"답변: {llm.invoke(question)}\")"
   ]
  },
  {
   "cell_type": "code",
   "execution_count": 6,
   "metadata": {},
   "outputs": [
    {
     "data": {
      "text/plain": [
       "PromptTemplate(input_variables=['country'], template='{country}의 수도는 어디인가?')"
      ]
     },
     "execution_count": 6,
     "metadata": {},
     "output_type": "execute_result"
    }
   ],
   "source": [
    "from langchain.prompts import PromptTemplate\n",
    "\n",
    "template = \"{country}의 수도는 어디인가?\"\n",
    "\n",
    "prompt = PromptTemplate.from_template(template=template)\n",
    "prompt"
   ]
  },
  {
   "cell_type": "code",
   "execution_count": 8,
   "metadata": {},
   "outputs": [
    {
     "name": "stdout",
     "output_type": "stream",
     "text": [
      "generations=[[ChatGeneration(text='캐나다의 수도는 오타와(Ottawa)입니다. 오타와는 온타리오주에 위치해 있으며, 캐나다의 정치적 중심지로서 주요 정부 기관과 외교 사절단이 자리잡고 있습니다.', generation_info={'finish_reason': 'stop', 'logprobs': None}, message=AIMessage(content='캐나다의 수도는 오타와(Ottawa)입니다. 오타와는 온타리오주에 위치해 있으며, 캐나다의 정치적 중심지로서 주요 정부 기관과 외교 사절단이 자리잡고 있습니다.', response_metadata={'token_usage': {'completion_tokens': 52, 'prompt_tokens': 15, 'total_tokens': 67}, 'model_name': 'gpt-4o', 'system_fingerprint': 'fp_729ea513f7', 'finish_reason': 'stop', 'logprobs': None}, id='run-85d5312c-e946-4bc4-90fb-3de38f6873fb-0'))]] llm_output={'token_usage': {'completion_tokens': 52, 'prompt_tokens': 15, 'total_tokens': 67}, 'model_name': 'gpt-4o', 'system_fingerprint': 'fp_729ea513f7'} run=[RunInfo(run_id=UUID('85d5312c-e946-4bc4-90fb-3de38f6873fb'))]\n"
     ]
    }
   ],
   "source": [
    "# LLMChain 객체\n",
    "from langchain.chains import LLMChain\n",
    "\n",
    "llm_chain = LLMChain(prompt=prompt, llm=llm)\n",
    "llm_chain.invoke({\"country\": \"캐나다\"})\n",
    "\n",
    "# apply 여러건\n",
    "# generate 여러건, LLMResult 객체로 반환\n",
    "generated_result = llm_chain.generate([{\"country\": \"캐나다\"}])\n",
    "print(generated_result)"
   ]
  },
  {
   "cell_type": "code",
   "execution_count": 10,
   "metadata": {},
   "outputs": [
    {
     "name": "stdout",
     "output_type": "stream",
     "text": [
      "대한민국은 동아시아에 위치한 국가로, 한반도의 남쪽\n",
      "에 자리잡고 있습니다. 수도는 서울이며, 인구는 약 5\n",
      "천만 명입니다. 대한민국은 1948년에 독립을 선언하였\n",
      "고, 1950년부터 1953년까지 한국 전쟁을 겪었습니다. \n",
      "경제적으로는 세계 10위권의 경제 대국으로, 전자, 자\n",
      "동차, 조선, 화학 산업 등이 발달해 있습니다. 정치 체\n",
      "제는 대통령제를 채택하고 있으며, 현재 문재인 대통령\n",
      "이 재임 중입니다. 문화적으로는 한류 열풍으로 인해 \n",
      "K-팝, 드라마, 영화 등이 전 세계적으로 인기를 끌고 \n",
      "있습니다. 교육 수준이 높고, IT 인프라가 잘 갖추어져 \n",
      "있어 디지털 강국으로도 알려져 있습니다."
     ]
    }
   ],
   "source": [
    "# stream 스트리밍으로 출력\n",
    "from langchain.callbacks.streaming_stdout import StreamingStdOutCallbackHandler\n",
    "\n",
    "llm = ChatOpenAI(\n",
    "    temperature=0,\n",
    "    max_tokens=2048,\n",
    "    model_name=\"gpt-4o\",\n",
    "    streaming=True,\n",
    "    callbacks=[StreamingStdOutCallbackHandler()],\n",
    ")\n",
    "\n",
    "question = \"대한민국에 대해서 300자 내외로 최대한 상세히 알려줘. 50R글자씩 줄을 나눠서 출력해줘.\"\n",
    "# 스트리밍으로 답변 출력\n",
    "response = llm.invoke(question)"
   ]
  }
 ],
 "metadata": {
  "kernelspec": {
   "display_name": ".venv",
   "language": "python",
   "name": "python3"
  },
  "language_info": {
   "codemirror_mode": {
    "name": "ipython",
    "version": 3
   },
   "file_extension": ".py",
   "mimetype": "text/x-python",
   "name": "python",
   "nbconvert_exporter": "python",
   "pygments_lexer": "ipython3",
   "version": "3.10.11"
  }
 },
 "nbformat": 4,
 "nbformat_minor": 2
}
