{
 "cells": [
  {
   "cell_type": "code",
   "execution_count": 1,
   "metadata": {},
   "outputs": [
    {
     "data": {
      "text/plain": [
       "True"
      ]
     },
     "execution_count": 1,
     "metadata": {},
     "output_type": "execute_result"
    }
   ],
   "source": [
    "from operator import itemgetter\n",
    "from langchain.schema import StrOutputParser\n",
    "from langchain_core.prompts import ChatPromptTemplate\n",
    "from langchain_openai import ChatOpenAI\n",
    "from dotenv import load_dotenv\n",
    "\n",
    "load_dotenv()"
   ]
  },
  {
   "cell_type": "code",
   "execution_count": 2,
   "metadata": {},
   "outputs": [],
   "source": [
    "prompt1 = ChatPromptTemplate.from_template(\"{person}이 출연한 대표적인 영화 1편의 제목을 알려주세요.\")\n",
    "prompt2 = ChatPromptTemplate.from_template(\"{movie}의 내용을 300자 내외로 요약해 주세요. {language}로 번역해 주세요.\")\n",
    "model = ChatOpenAI(model=\"gpt-4o\", temperature=0)\n",
    "output_parser = StrOutputParser()"
   ]
  },
  {
   "cell_type": "code",
   "execution_count": 3,
   "metadata": {},
   "outputs": [],
   "source": [
    "chain1 = prompt1 | model | output_parser\n",
    "chain2 = (\n",
    "    {\"movie\": chain1, \"language\": itemgetter(\"language\")}\n",
    "    | prompt2\n",
    "    | model\n",
    "    | output_parser\n",
    ")"
   ]
  },
  {
   "cell_type": "code",
   "execution_count": 4,
   "metadata": {},
   "outputs": [
    {
     "name": "stdout",
     "output_type": "stream",
     "text": [
      "\"스파이더맨: 홈커밍\"은 마블 시네마틱 유니버스(MCU)의 일환으로 제작된 영화로, 톰 홀랜드가 피터 파커/스파이더맨 역할을 맡아 큰 인기를 얻었습니다. 영화는 피터 파커가 어벤져스와의 협력 이후 일상으로 돌아와 고등학생으로서의 삶과 슈퍼히어로로서의 책임을 균형 있게 관리하려는 노력을 그립니다. 피터는 토니 스타크(아이언맨)의 멘토링을 받으며 자신의 능력을 발전시키고, 새로운 악당 벌처(에이드리언 툼스)와 맞서 싸웁니다. 영화는 피터의 성장과 자아 발견을 중심으로 전개되며, 그의 인간적인 면모와 영웅으로서의 책임감을 강조합니다."
     ]
    }
   ],
   "source": [
    "for word in chain2.stream({\"person\": \"톰홀랜드\", \"language\": \"한글\"}):\n",
    "    print(word, end=\"\", flush=True)"
   ]
  }
 ],
 "metadata": {
  "kernelspec": {
   "display_name": "langchain-study",
   "language": "python",
   "name": "python3"
  },
  "language_info": {
   "codemirror_mode": {
    "name": "ipython",
    "version": 3
   },
   "file_extension": ".py",
   "mimetype": "text/x-python",
   "name": "python",
   "nbconvert_exporter": "python",
   "pygments_lexer": "ipython3",
   "version": "3.10.14"
  }
 },
 "nbformat": 4,
 "nbformat_minor": 2
}
