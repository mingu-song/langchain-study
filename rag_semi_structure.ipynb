{
 "cells": [
  {
   "cell_type": "markdown",
   "metadata": {},
   "source": [
    "## Semi-structured RAG\n",
    "\n",
    "![](./img/semi.jpg)\n",
    "\n",
    "출처: https://medium.com/p/d0fc83c7cc37"
   ]
  },
  {
   "cell_type": "code",
   "execution_count": 1,
   "metadata": {},
   "outputs": [
    {
     "name": "stdout",
     "output_type": "stream",
     "text": [
      "Requirement already satisfied: langchain in /Users/kade/.pyenv/versions/3.9.19/envs/langchain-study/lib/python3.9/site-packages (0.2.1)\n",
      "Requirement already satisfied: openai in /Users/kade/.pyenv/versions/3.9.19/envs/langchain-study/lib/python3.9/site-packages (1.30.3)\n",
      "Requirement already satisfied: chromadb in /Users/kade/.pyenv/versions/3.9.19/envs/langchain-study/lib/python3.9/site-packages (0.5.0)\n",
      "Requirement already satisfied: langchain-experimental in /Users/kade/.pyenv/versions/3.9.19/envs/langchain-study/lib/python3.9/site-packages (0.0.59)\n",
      "Requirement already satisfied: PyYAML>=5.3 in /Users/kade/.pyenv/versions/3.9.19/envs/langchain-study/lib/python3.9/site-packages (from langchain) (6.0.1)\n",
      "Requirement already satisfied: SQLAlchemy<3,>=1.4 in /Users/kade/.pyenv/versions/3.9.19/envs/langchain-study/lib/python3.9/site-packages (from langchain) (2.0.30)\n",
      "Requirement already satisfied: aiohttp<4.0.0,>=3.8.3 in /Users/kade/.pyenv/versions/3.9.19/envs/langchain-study/lib/python3.9/site-packages (from langchain) (3.9.5)\n",
      "Requirement already satisfied: async-timeout<5.0.0,>=4.0.0 in /Users/kade/.pyenv/versions/3.9.19/envs/langchain-study/lib/python3.9/site-packages (from langchain) (4.0.3)\n",
      "Requirement already satisfied: langchain-core<0.3.0,>=0.2.0 in /Users/kade/.pyenv/versions/3.9.19/envs/langchain-study/lib/python3.9/site-packages (from langchain) (0.2.1)\n",
      "Requirement already satisfied: langchain-text-splitters<0.3.0,>=0.2.0 in /Users/kade/.pyenv/versions/3.9.19/envs/langchain-study/lib/python3.9/site-packages (from langchain) (0.2.0)\n",
      "Requirement already satisfied: langsmith<0.2.0,>=0.1.17 in /Users/kade/.pyenv/versions/3.9.19/envs/langchain-study/lib/python3.9/site-packages (from langchain) (0.1.63)\n",
      "Requirement already satisfied: numpy<2,>=1 in /Users/kade/.pyenv/versions/3.9.19/envs/langchain-study/lib/python3.9/site-packages (from langchain) (1.26.4)\n",
      "Requirement already satisfied: pydantic<3,>=1 in /Users/kade/.pyenv/versions/3.9.19/envs/langchain-study/lib/python3.9/site-packages (from langchain) (2.7.1)\n",
      "Requirement already satisfied: requests<3,>=2 in /Users/kade/.pyenv/versions/3.9.19/envs/langchain-study/lib/python3.9/site-packages (from langchain) (2.32.2)\n",
      "Requirement already satisfied: tenacity<9.0.0,>=8.1.0 in /Users/kade/.pyenv/versions/3.9.19/envs/langchain-study/lib/python3.9/site-packages (from langchain) (8.3.0)\n",
      "Requirement already satisfied: anyio<5,>=3.5.0 in /Users/kade/.pyenv/versions/3.9.19/envs/langchain-study/lib/python3.9/site-packages (from openai) (4.4.0)\n",
      "Requirement already satisfied: distro<2,>=1.7.0 in /Users/kade/.pyenv/versions/3.9.19/envs/langchain-study/lib/python3.9/site-packages (from openai) (1.9.0)\n",
      "Requirement already satisfied: httpx<1,>=0.23.0 in /Users/kade/.pyenv/versions/3.9.19/envs/langchain-study/lib/python3.9/site-packages (from openai) (0.27.0)\n",
      "Requirement already satisfied: sniffio in /Users/kade/.pyenv/versions/3.9.19/envs/langchain-study/lib/python3.9/site-packages (from openai) (1.3.1)\n",
      "Requirement already satisfied: tqdm>4 in /Users/kade/.pyenv/versions/3.9.19/envs/langchain-study/lib/python3.9/site-packages (from openai) (4.66.4)\n",
      "Requirement already satisfied: typing-extensions<5,>=4.7 in /Users/kade/.pyenv/versions/3.9.19/envs/langchain-study/lib/python3.9/site-packages (from openai) (4.12.0)\n",
      "Requirement already satisfied: build>=1.0.3 in /Users/kade/.pyenv/versions/3.9.19/envs/langchain-study/lib/python3.9/site-packages (from chromadb) (1.2.1)\n",
      "Requirement already satisfied: chroma-hnswlib==0.7.3 in /Users/kade/.pyenv/versions/3.9.19/envs/langchain-study/lib/python3.9/site-packages (from chromadb) (0.7.3)\n",
      "Requirement already satisfied: fastapi>=0.95.2 in /Users/kade/.pyenv/versions/3.9.19/envs/langchain-study/lib/python3.9/site-packages (from chromadb) (0.111.0)\n",
      "Requirement already satisfied: uvicorn>=0.18.3 in /Users/kade/.pyenv/versions/3.9.19/envs/langchain-study/lib/python3.9/site-packages (from uvicorn[standard]>=0.18.3->chromadb) (0.29.0)\n",
      "Requirement already satisfied: posthog>=2.4.0 in /Users/kade/.pyenv/versions/3.9.19/envs/langchain-study/lib/python3.9/site-packages (from chromadb) (3.5.0)\n",
      "Requirement already satisfied: onnxruntime>=1.14.1 in /Users/kade/.pyenv/versions/3.9.19/envs/langchain-study/lib/python3.9/site-packages (from chromadb) (1.18.0)\n",
      "Requirement already satisfied: opentelemetry-api>=1.2.0 in /Users/kade/.pyenv/versions/3.9.19/envs/langchain-study/lib/python3.9/site-packages (from chromadb) (1.24.0)\n",
      "Requirement already satisfied: opentelemetry-exporter-otlp-proto-grpc>=1.2.0 in /Users/kade/.pyenv/versions/3.9.19/envs/langchain-study/lib/python3.9/site-packages (from chromadb) (1.24.0)\n",
      "Requirement already satisfied: opentelemetry-instrumentation-fastapi>=0.41b0 in /Users/kade/.pyenv/versions/3.9.19/envs/langchain-study/lib/python3.9/site-packages (from chromadb) (0.45b0)\n",
      "Requirement already satisfied: opentelemetry-sdk>=1.2.0 in /Users/kade/.pyenv/versions/3.9.19/envs/langchain-study/lib/python3.9/site-packages (from chromadb) (1.24.0)\n",
      "Requirement already satisfied: tokenizers>=0.13.2 in /Users/kade/.pyenv/versions/3.9.19/envs/langchain-study/lib/python3.9/site-packages (from chromadb) (0.19.1)\n",
      "Requirement already satisfied: pypika>=0.48.9 in /Users/kade/.pyenv/versions/3.9.19/envs/langchain-study/lib/python3.9/site-packages (from chromadb) (0.48.9)\n",
      "Requirement already satisfied: overrides>=7.3.1 in /Users/kade/.pyenv/versions/3.9.19/envs/langchain-study/lib/python3.9/site-packages (from chromadb) (7.7.0)\n",
      "Requirement already satisfied: importlib-resources in /Users/kade/.pyenv/versions/3.9.19/envs/langchain-study/lib/python3.9/site-packages (from chromadb) (6.4.0)\n",
      "Requirement already satisfied: grpcio>=1.58.0 in /Users/kade/.pyenv/versions/3.9.19/envs/langchain-study/lib/python3.9/site-packages (from chromadb) (1.64.0)\n",
      "Requirement already satisfied: bcrypt>=4.0.1 in /Users/kade/.pyenv/versions/3.9.19/envs/langchain-study/lib/python3.9/site-packages (from chromadb) (4.1.3)\n",
      "Requirement already satisfied: typer>=0.9.0 in /Users/kade/.pyenv/versions/3.9.19/envs/langchain-study/lib/python3.9/site-packages (from chromadb) (0.12.3)\n",
      "Requirement already satisfied: kubernetes>=28.1.0 in /Users/kade/.pyenv/versions/3.9.19/envs/langchain-study/lib/python3.9/site-packages (from chromadb) (29.0.0)\n",
      "Requirement already satisfied: mmh3>=4.0.1 in /Users/kade/.pyenv/versions/3.9.19/envs/langchain-study/lib/python3.9/site-packages (from chromadb) (4.1.0)\n",
      "Requirement already satisfied: orjson>=3.9.12 in /Users/kade/.pyenv/versions/3.9.19/envs/langchain-study/lib/python3.9/site-packages (from chromadb) (3.10.3)\n",
      "Requirement already satisfied: langchain-community<0.3,>=0.2 in /Users/kade/.pyenv/versions/3.9.19/envs/langchain-study/lib/python3.9/site-packages (from langchain-experimental) (0.2.1)\n",
      "Requirement already satisfied: aiosignal>=1.1.2 in /Users/kade/.pyenv/versions/3.9.19/envs/langchain-study/lib/python3.9/site-packages (from aiohttp<4.0.0,>=3.8.3->langchain) (1.3.1)\n",
      "Requirement already satisfied: attrs>=17.3.0 in /Users/kade/.pyenv/versions/3.9.19/envs/langchain-study/lib/python3.9/site-packages (from aiohttp<4.0.0,>=3.8.3->langchain) (23.2.0)\n",
      "Requirement already satisfied: frozenlist>=1.1.1 in /Users/kade/.pyenv/versions/3.9.19/envs/langchain-study/lib/python3.9/site-packages (from aiohttp<4.0.0,>=3.8.3->langchain) (1.4.1)\n",
      "Requirement already satisfied: multidict<7.0,>=4.5 in /Users/kade/.pyenv/versions/3.9.19/envs/langchain-study/lib/python3.9/site-packages (from aiohttp<4.0.0,>=3.8.3->langchain) (6.0.5)\n",
      "Requirement already satisfied: yarl<2.0,>=1.0 in /Users/kade/.pyenv/versions/3.9.19/envs/langchain-study/lib/python3.9/site-packages (from aiohttp<4.0.0,>=3.8.3->langchain) (1.9.4)\n",
      "Requirement already satisfied: idna>=2.8 in /Users/kade/.pyenv/versions/3.9.19/envs/langchain-study/lib/python3.9/site-packages (from anyio<5,>=3.5.0->openai) (3.7)\n",
      "Requirement already satisfied: exceptiongroup>=1.0.2 in /Users/kade/.pyenv/versions/3.9.19/envs/langchain-study/lib/python3.9/site-packages (from anyio<5,>=3.5.0->openai) (1.2.1)\n",
      "Requirement already satisfied: packaging>=19.1 in /Users/kade/.pyenv/versions/3.9.19/envs/langchain-study/lib/python3.9/site-packages (from build>=1.0.3->chromadb) (23.2)\n",
      "Requirement already satisfied: pyproject_hooks in /Users/kade/.pyenv/versions/3.9.19/envs/langchain-study/lib/python3.9/site-packages (from build>=1.0.3->chromadb) (1.1.0)\n",
      "Requirement already satisfied: importlib-metadata>=4.6 in /Users/kade/.pyenv/versions/3.9.19/envs/langchain-study/lib/python3.9/site-packages (from build>=1.0.3->chromadb) (7.0.0)\n",
      "Requirement already satisfied: tomli>=1.1.0 in /Users/kade/.pyenv/versions/3.9.19/envs/langchain-study/lib/python3.9/site-packages (from build>=1.0.3->chromadb) (2.0.1)\n",
      "Requirement already satisfied: starlette<0.38.0,>=0.37.2 in /Users/kade/.pyenv/versions/3.9.19/envs/langchain-study/lib/python3.9/site-packages (from fastapi>=0.95.2->chromadb) (0.37.2)\n",
      "Requirement already satisfied: fastapi-cli>=0.0.2 in /Users/kade/.pyenv/versions/3.9.19/envs/langchain-study/lib/python3.9/site-packages (from fastapi>=0.95.2->chromadb) (0.0.4)\n",
      "Requirement already satisfied: jinja2>=2.11.2 in /Users/kade/.pyenv/versions/3.9.19/envs/langchain-study/lib/python3.9/site-packages (from fastapi>=0.95.2->chromadb) (3.1.4)\n",
      "Requirement already satisfied: python-multipart>=0.0.7 in /Users/kade/.pyenv/versions/3.9.19/envs/langchain-study/lib/python3.9/site-packages (from fastapi>=0.95.2->chromadb) (0.0.9)\n",
      "Requirement already satisfied: ujson!=4.0.2,!=4.1.0,!=4.2.0,!=4.3.0,!=5.0.0,!=5.1.0,>=4.0.1 in /Users/kade/.pyenv/versions/3.9.19/envs/langchain-study/lib/python3.9/site-packages (from fastapi>=0.95.2->chromadb) (5.10.0)\n",
      "Requirement already satisfied: email_validator>=2.0.0 in /Users/kade/.pyenv/versions/3.9.19/envs/langchain-study/lib/python3.9/site-packages (from fastapi>=0.95.2->chromadb) (2.1.1)\n",
      "Requirement already satisfied: certifi in /Users/kade/.pyenv/versions/3.9.19/envs/langchain-study/lib/python3.9/site-packages (from httpx<1,>=0.23.0->openai) (2024.2.2)\n",
      "Requirement already satisfied: httpcore==1.* in /Users/kade/.pyenv/versions/3.9.19/envs/langchain-study/lib/python3.9/site-packages (from httpx<1,>=0.23.0->openai) (1.0.5)\n",
      "Requirement already satisfied: h11<0.15,>=0.13 in /Users/kade/.pyenv/versions/3.9.19/envs/langchain-study/lib/python3.9/site-packages (from httpcore==1.*->httpx<1,>=0.23.0->openai) (0.14.0)\n",
      "Requirement already satisfied: six>=1.9.0 in /Users/kade/.pyenv/versions/3.9.19/envs/langchain-study/lib/python3.9/site-packages (from kubernetes>=28.1.0->chromadb) (1.16.0)\n",
      "Requirement already satisfied: python-dateutil>=2.5.3 in /Users/kade/.pyenv/versions/3.9.19/envs/langchain-study/lib/python3.9/site-packages (from kubernetes>=28.1.0->chromadb) (2.9.0.post0)\n",
      "Requirement already satisfied: google-auth>=1.0.1 in /Users/kade/.pyenv/versions/3.9.19/envs/langchain-study/lib/python3.9/site-packages (from kubernetes>=28.1.0->chromadb) (2.29.0)\n",
      "Requirement already satisfied: websocket-client!=0.40.0,!=0.41.*,!=0.42.*,>=0.32.0 in /Users/kade/.pyenv/versions/3.9.19/envs/langchain-study/lib/python3.9/site-packages (from kubernetes>=28.1.0->chromadb) (1.8.0)\n",
      "Requirement already satisfied: requests-oauthlib in /Users/kade/.pyenv/versions/3.9.19/envs/langchain-study/lib/python3.9/site-packages (from kubernetes>=28.1.0->chromadb) (2.0.0)\n",
      "Requirement already satisfied: oauthlib>=3.2.2 in /Users/kade/.pyenv/versions/3.9.19/envs/langchain-study/lib/python3.9/site-packages (from kubernetes>=28.1.0->chromadb) (3.2.2)\n",
      "Requirement already satisfied: urllib3>=1.24.2 in /Users/kade/.pyenv/versions/3.9.19/envs/langchain-study/lib/python3.9/site-packages (from kubernetes>=28.1.0->chromadb) (2.2.1)\n",
      "Requirement already satisfied: dataclasses-json<0.7,>=0.5.7 in /Users/kade/.pyenv/versions/3.9.19/envs/langchain-study/lib/python3.9/site-packages (from langchain-community<0.3,>=0.2->langchain-experimental) (0.6.6)\n",
      "Requirement already satisfied: jsonpatch<2.0,>=1.33 in /Users/kade/.pyenv/versions/3.9.19/envs/langchain-study/lib/python3.9/site-packages (from langchain-core<0.3.0,>=0.2.0->langchain) (1.33)\n",
      "Requirement already satisfied: coloredlogs in /Users/kade/.pyenv/versions/3.9.19/envs/langchain-study/lib/python3.9/site-packages (from onnxruntime>=1.14.1->chromadb) (15.0.1)\n",
      "Requirement already satisfied: flatbuffers in /Users/kade/.pyenv/versions/3.9.19/envs/langchain-study/lib/python3.9/site-packages (from onnxruntime>=1.14.1->chromadb) (24.3.25)\n",
      "Requirement already satisfied: protobuf in /Users/kade/.pyenv/versions/3.9.19/envs/langchain-study/lib/python3.9/site-packages (from onnxruntime>=1.14.1->chromadb) (4.25.3)\n",
      "Requirement already satisfied: sympy in /Users/kade/.pyenv/versions/3.9.19/envs/langchain-study/lib/python3.9/site-packages (from onnxruntime>=1.14.1->chromadb) (1.12)\n",
      "Requirement already satisfied: deprecated>=1.2.6 in /Users/kade/.pyenv/versions/3.9.19/envs/langchain-study/lib/python3.9/site-packages (from opentelemetry-api>=1.2.0->chromadb) (1.2.14)\n",
      "Requirement already satisfied: googleapis-common-protos~=1.52 in /Users/kade/.pyenv/versions/3.9.19/envs/langchain-study/lib/python3.9/site-packages (from opentelemetry-exporter-otlp-proto-grpc>=1.2.0->chromadb) (1.63.0)\n",
      "Requirement already satisfied: opentelemetry-exporter-otlp-proto-common==1.24.0 in /Users/kade/.pyenv/versions/3.9.19/envs/langchain-study/lib/python3.9/site-packages (from opentelemetry-exporter-otlp-proto-grpc>=1.2.0->chromadb) (1.24.0)\n",
      "Requirement already satisfied: opentelemetry-proto==1.24.0 in /Users/kade/.pyenv/versions/3.9.19/envs/langchain-study/lib/python3.9/site-packages (from opentelemetry-exporter-otlp-proto-grpc>=1.2.0->chromadb) (1.24.0)\n",
      "Requirement already satisfied: opentelemetry-instrumentation-asgi==0.45b0 in /Users/kade/.pyenv/versions/3.9.19/envs/langchain-study/lib/python3.9/site-packages (from opentelemetry-instrumentation-fastapi>=0.41b0->chromadb) (0.45b0)\n",
      "Requirement already satisfied: opentelemetry-instrumentation==0.45b0 in /Users/kade/.pyenv/versions/3.9.19/envs/langchain-study/lib/python3.9/site-packages (from opentelemetry-instrumentation-fastapi>=0.41b0->chromadb) (0.45b0)\n",
      "Requirement already satisfied: opentelemetry-semantic-conventions==0.45b0 in /Users/kade/.pyenv/versions/3.9.19/envs/langchain-study/lib/python3.9/site-packages (from opentelemetry-instrumentation-fastapi>=0.41b0->chromadb) (0.45b0)\n",
      "Requirement already satisfied: opentelemetry-util-http==0.45b0 in /Users/kade/.pyenv/versions/3.9.19/envs/langchain-study/lib/python3.9/site-packages (from opentelemetry-instrumentation-fastapi>=0.41b0->chromadb) (0.45b0)\n",
      "Requirement already satisfied: setuptools>=16.0 in /Users/kade/.pyenv/versions/3.9.19/envs/langchain-study/lib/python3.9/site-packages (from opentelemetry-instrumentation==0.45b0->opentelemetry-instrumentation-fastapi>=0.41b0->chromadb) (58.1.0)\n",
      "Requirement already satisfied: wrapt<2.0.0,>=1.0.0 in /Users/kade/.pyenv/versions/3.9.19/envs/langchain-study/lib/python3.9/site-packages (from opentelemetry-instrumentation==0.45b0->opentelemetry-instrumentation-fastapi>=0.41b0->chromadb) (1.16.0)\n",
      "Requirement already satisfied: asgiref~=3.0 in /Users/kade/.pyenv/versions/3.9.19/envs/langchain-study/lib/python3.9/site-packages (from opentelemetry-instrumentation-asgi==0.45b0->opentelemetry-instrumentation-fastapi>=0.41b0->chromadb) (3.8.1)\n",
      "Requirement already satisfied: monotonic>=1.5 in /Users/kade/.pyenv/versions/3.9.19/envs/langchain-study/lib/python3.9/site-packages (from posthog>=2.4.0->chromadb) (1.6)\n",
      "Requirement already satisfied: backoff>=1.10.0 in /Users/kade/.pyenv/versions/3.9.19/envs/langchain-study/lib/python3.9/site-packages (from posthog>=2.4.0->chromadb) (2.2.1)\n",
      "Requirement already satisfied: annotated-types>=0.4.0 in /Users/kade/.pyenv/versions/3.9.19/envs/langchain-study/lib/python3.9/site-packages (from pydantic<3,>=1->langchain) (0.7.0)\n",
      "Requirement already satisfied: pydantic-core==2.18.2 in /Users/kade/.pyenv/versions/3.9.19/envs/langchain-study/lib/python3.9/site-packages (from pydantic<3,>=1->langchain) (2.18.2)\n",
      "Requirement already satisfied: charset-normalizer<4,>=2 in /Users/kade/.pyenv/versions/3.9.19/envs/langchain-study/lib/python3.9/site-packages (from requests<3,>=2->langchain) (3.3.2)\n",
      "Requirement already satisfied: huggingface-hub<1.0,>=0.16.4 in /Users/kade/.pyenv/versions/3.9.19/envs/langchain-study/lib/python3.9/site-packages (from tokenizers>=0.13.2->chromadb) (0.23.2)\n",
      "Requirement already satisfied: click>=8.0.0 in /Users/kade/.pyenv/versions/3.9.19/envs/langchain-study/lib/python3.9/site-packages (from typer>=0.9.0->chromadb) (8.1.7)\n",
      "Requirement already satisfied: shellingham>=1.3.0 in /Users/kade/.pyenv/versions/3.9.19/envs/langchain-study/lib/python3.9/site-packages (from typer>=0.9.0->chromadb) (1.5.4)\n",
      "Requirement already satisfied: rich>=10.11.0 in /Users/kade/.pyenv/versions/3.9.19/envs/langchain-study/lib/python3.9/site-packages (from typer>=0.9.0->chromadb) (13.7.1)\n",
      "Requirement already satisfied: httptools>=0.5.0 in /Users/kade/.pyenv/versions/3.9.19/envs/langchain-study/lib/python3.9/site-packages (from uvicorn[standard]>=0.18.3->chromadb) (0.6.1)\n",
      "Requirement already satisfied: python-dotenv>=0.13 in /Users/kade/.pyenv/versions/3.9.19/envs/langchain-study/lib/python3.9/site-packages (from uvicorn[standard]>=0.18.3->chromadb) (1.0.1)\n",
      "Requirement already satisfied: uvloop!=0.15.0,!=0.15.1,>=0.14.0 in /Users/kade/.pyenv/versions/3.9.19/envs/langchain-study/lib/python3.9/site-packages (from uvicorn[standard]>=0.18.3->chromadb) (0.19.0)\n",
      "Requirement already satisfied: watchfiles>=0.13 in /Users/kade/.pyenv/versions/3.9.19/envs/langchain-study/lib/python3.9/site-packages (from uvicorn[standard]>=0.18.3->chromadb) (0.22.0)\n",
      "Requirement already satisfied: websockets>=10.4 in /Users/kade/.pyenv/versions/3.9.19/envs/langchain-study/lib/python3.9/site-packages (from uvicorn[standard]>=0.18.3->chromadb) (12.0)\n",
      "Requirement already satisfied: zipp>=3.1.0 in /Users/kade/.pyenv/versions/3.9.19/envs/langchain-study/lib/python3.9/site-packages (from importlib-resources->chromadb) (3.19.0)\n",
      "Requirement already satisfied: marshmallow<4.0.0,>=3.18.0 in /Users/kade/.pyenv/versions/3.9.19/envs/langchain-study/lib/python3.9/site-packages (from dataclasses-json<0.7,>=0.5.7->langchain-community<0.3,>=0.2->langchain-experimental) (3.21.2)\n",
      "Requirement already satisfied: typing-inspect<1,>=0.4.0 in /Users/kade/.pyenv/versions/3.9.19/envs/langchain-study/lib/python3.9/site-packages (from dataclasses-json<0.7,>=0.5.7->langchain-community<0.3,>=0.2->langchain-experimental) (0.9.0)\n",
      "Requirement already satisfied: dnspython>=2.0.0 in /Users/kade/.pyenv/versions/3.9.19/envs/langchain-study/lib/python3.9/site-packages (from email_validator>=2.0.0->fastapi>=0.95.2->chromadb) (2.6.1)\n",
      "Requirement already satisfied: cachetools<6.0,>=2.0.0 in /Users/kade/.pyenv/versions/3.9.19/envs/langchain-study/lib/python3.9/site-packages (from google-auth>=1.0.1->kubernetes>=28.1.0->chromadb) (5.3.3)\n",
      "Requirement already satisfied: pyasn1-modules>=0.2.1 in /Users/kade/.pyenv/versions/3.9.19/envs/langchain-study/lib/python3.9/site-packages (from google-auth>=1.0.1->kubernetes>=28.1.0->chromadb) (0.4.0)\n",
      "Requirement already satisfied: rsa<5,>=3.1.4 in /Users/kade/.pyenv/versions/3.9.19/envs/langchain-study/lib/python3.9/site-packages (from google-auth>=1.0.1->kubernetes>=28.1.0->chromadb) (4.9)\n",
      "Requirement already satisfied: filelock in /Users/kade/.pyenv/versions/3.9.19/envs/langchain-study/lib/python3.9/site-packages (from huggingface-hub<1.0,>=0.16.4->tokenizers>=0.13.2->chromadb) (3.14.0)\n",
      "Requirement already satisfied: fsspec>=2023.5.0 in /Users/kade/.pyenv/versions/3.9.19/envs/langchain-study/lib/python3.9/site-packages (from huggingface-hub<1.0,>=0.16.4->tokenizers>=0.13.2->chromadb) (2024.5.0)\n",
      "Requirement already satisfied: MarkupSafe>=2.0 in /Users/kade/.pyenv/versions/3.9.19/envs/langchain-study/lib/python3.9/site-packages (from jinja2>=2.11.2->fastapi>=0.95.2->chromadb) (2.1.5)\n",
      "Requirement already satisfied: jsonpointer>=1.9 in /Users/kade/.pyenv/versions/3.9.19/envs/langchain-study/lib/python3.9/site-packages (from jsonpatch<2.0,>=1.33->langchain-core<0.3.0,>=0.2.0->langchain) (2.4)\n",
      "Requirement already satisfied: markdown-it-py>=2.2.0 in /Users/kade/.pyenv/versions/3.9.19/envs/langchain-study/lib/python3.9/site-packages (from rich>=10.11.0->typer>=0.9.0->chromadb) (3.0.0)\n",
      "Requirement already satisfied: pygments<3.0.0,>=2.13.0 in /Users/kade/.pyenv/versions/3.9.19/envs/langchain-study/lib/python3.9/site-packages (from rich>=10.11.0->typer>=0.9.0->chromadb) (2.18.0)\n",
      "Requirement already satisfied: humanfriendly>=9.1 in /Users/kade/.pyenv/versions/3.9.19/envs/langchain-study/lib/python3.9/site-packages (from coloredlogs->onnxruntime>=1.14.1->chromadb) (10.0)\n",
      "Requirement already satisfied: mpmath>=0.19 in /Users/kade/.pyenv/versions/3.9.19/envs/langchain-study/lib/python3.9/site-packages (from sympy->onnxruntime>=1.14.1->chromadb) (1.3.0)\n",
      "Requirement already satisfied: mdurl~=0.1 in /Users/kade/.pyenv/versions/3.9.19/envs/langchain-study/lib/python3.9/site-packages (from markdown-it-py>=2.2.0->rich>=10.11.0->typer>=0.9.0->chromadb) (0.1.2)\n",
      "Requirement already satisfied: pyasn1<0.7.0,>=0.4.6 in /Users/kade/.pyenv/versions/3.9.19/envs/langchain-study/lib/python3.9/site-packages (from pyasn1-modules>=0.2.1->google-auth>=1.0.1->kubernetes>=28.1.0->chromadb) (0.6.0)\n",
      "Requirement already satisfied: mypy-extensions>=0.3.0 in /Users/kade/.pyenv/versions/3.9.19/envs/langchain-study/lib/python3.9/site-packages (from typing-inspect<1,>=0.4.0->dataclasses-json<0.7,>=0.5.7->langchain-community<0.3,>=0.2->langchain-experimental) (1.0.0)\n"
     ]
    }
   ],
   "source": [
    "! pip install -U langchain openai chromadb langchain-experimental"
   ]
  },
  {
   "cell_type": "code",
   "execution_count": 2,
   "metadata": {},
   "outputs": [
    {
     "name": "stdout",
     "output_type": "stream",
     "text": [
      "Requirement already satisfied: pillow in /Users/kade/.pyenv/versions/3.9.19/envs/langchain-study/lib/python3.9/site-packages (10.3.0)\n",
      "Requirement already satisfied: pydantic in /Users/kade/.pyenv/versions/3.9.19/envs/langchain-study/lib/python3.9/site-packages (2.7.1)\n",
      "Requirement already satisfied: lxml in /Users/kade/.pyenv/versions/3.9.19/envs/langchain-study/lib/python3.9/site-packages (5.2.2)\n",
      "Requirement already satisfied: matplotlib in /Users/kade/.pyenv/versions/3.9.19/envs/langchain-study/lib/python3.9/site-packages (3.9.0)\n",
      "Requirement already satisfied: chromadb in /Users/kade/.pyenv/versions/3.9.19/envs/langchain-study/lib/python3.9/site-packages (0.5.0)\n",
      "Requirement already satisfied: tiktoken in /Users/kade/.pyenv/versions/3.9.19/envs/langchain-study/lib/python3.9/site-packages (0.7.0)\n",
      "Requirement already satisfied: unstructured[all-docs] in /Users/kade/.pyenv/versions/3.9.19/envs/langchain-study/lib/python3.9/site-packages (0.14.2)\n",
      "Requirement already satisfied: chardet in /Users/kade/.pyenv/versions/3.9.19/envs/langchain-study/lib/python3.9/site-packages (from unstructured[all-docs]) (5.2.0)\n",
      "Requirement already satisfied: filetype in /Users/kade/.pyenv/versions/3.9.19/envs/langchain-study/lib/python3.9/site-packages (from unstructured[all-docs]) (1.2.0)\n",
      "Requirement already satisfied: python-magic in /Users/kade/.pyenv/versions/3.9.19/envs/langchain-study/lib/python3.9/site-packages (from unstructured[all-docs]) (0.4.27)\n",
      "Requirement already satisfied: nltk in /Users/kade/.pyenv/versions/3.9.19/envs/langchain-study/lib/python3.9/site-packages (from unstructured[all-docs]) (3.8.1)\n",
      "Requirement already satisfied: tabulate in /Users/kade/.pyenv/versions/3.9.19/envs/langchain-study/lib/python3.9/site-packages (from unstructured[all-docs]) (0.9.0)\n",
      "Requirement already satisfied: requests in /Users/kade/.pyenv/versions/3.9.19/envs/langchain-study/lib/python3.9/site-packages (from unstructured[all-docs]) (2.32.2)\n",
      "Requirement already satisfied: beautifulsoup4 in /Users/kade/.pyenv/versions/3.9.19/envs/langchain-study/lib/python3.9/site-packages (from unstructured[all-docs]) (4.12.3)\n",
      "Requirement already satisfied: emoji in /Users/kade/.pyenv/versions/3.9.19/envs/langchain-study/lib/python3.9/site-packages (from unstructured[all-docs]) (2.12.1)\n",
      "Requirement already satisfied: dataclasses-json in /Users/kade/.pyenv/versions/3.9.19/envs/langchain-study/lib/python3.9/site-packages (from unstructured[all-docs]) (0.6.6)\n",
      "Requirement already satisfied: python-iso639 in /Users/kade/.pyenv/versions/3.9.19/envs/langchain-study/lib/python3.9/site-packages (from unstructured[all-docs]) (2024.4.27)\n",
      "Requirement already satisfied: langdetect in /Users/kade/.pyenv/versions/3.9.19/envs/langchain-study/lib/python3.9/site-packages (from unstructured[all-docs]) (1.0.9)\n",
      "Requirement already satisfied: numpy in /Users/kade/.pyenv/versions/3.9.19/envs/langchain-study/lib/python3.9/site-packages (from unstructured[all-docs]) (1.26.4)\n",
      "Requirement already satisfied: rapidfuzz in /Users/kade/.pyenv/versions/3.9.19/envs/langchain-study/lib/python3.9/site-packages (from unstructured[all-docs]) (3.9.1)\n",
      "Requirement already satisfied: backoff in /Users/kade/.pyenv/versions/3.9.19/envs/langchain-study/lib/python3.9/site-packages (from unstructured[all-docs]) (2.2.1)\n",
      "Requirement already satisfied: typing-extensions in /Users/kade/.pyenv/versions/3.9.19/envs/langchain-study/lib/python3.9/site-packages (from unstructured[all-docs]) (4.12.0)\n",
      "Requirement already satisfied: unstructured-client in /Users/kade/.pyenv/versions/3.9.19/envs/langchain-study/lib/python3.9/site-packages (from unstructured[all-docs]) (0.22.0)\n",
      "Requirement already satisfied: wrapt in /Users/kade/.pyenv/versions/3.9.19/envs/langchain-study/lib/python3.9/site-packages (from unstructured[all-docs]) (1.16.0)\n",
      "Requirement already satisfied: markdown in /Users/kade/.pyenv/versions/3.9.19/envs/langchain-study/lib/python3.9/site-packages (from unstructured[all-docs]) (3.6)\n",
      "Requirement already satisfied: pandas in /Users/kade/.pyenv/versions/3.9.19/envs/langchain-study/lib/python3.9/site-packages (from unstructured[all-docs]) (2.2.2)\n",
      "Requirement already satisfied: pytesseract in /Users/kade/.pyenv/versions/3.9.19/envs/langchain-study/lib/python3.9/site-packages (from unstructured[all-docs]) (0.3.10)\n",
      "Requirement already satisfied: xlrd in /Users/kade/.pyenv/versions/3.9.19/envs/langchain-study/lib/python3.9/site-packages (from unstructured[all-docs]) (2.0.1)\n",
      "Requirement already satisfied: pikepdf in /Users/kade/.pyenv/versions/3.9.19/envs/langchain-study/lib/python3.9/site-packages (from unstructured[all-docs]) (8.15.1)\n",
      "Requirement already satisfied: unstructured-inference==0.7.33 in /Users/kade/.pyenv/versions/3.9.19/envs/langchain-study/lib/python3.9/site-packages (from unstructured[all-docs]) (0.7.33)\n",
      "Requirement already satisfied: unstructured.pytesseract>=0.3.12 in /Users/kade/.pyenv/versions/3.9.19/envs/langchain-study/lib/python3.9/site-packages (from unstructured[all-docs]) (0.3.12)\n",
      "Requirement already satisfied: python-docx in /Users/kade/.pyenv/versions/3.9.19/envs/langchain-study/lib/python3.9/site-packages (from unstructured[all-docs]) (1.1.2)\n",
      "Requirement already satisfied: pillow-heif in /Users/kade/.pyenv/versions/3.9.19/envs/langchain-study/lib/python3.9/site-packages (from unstructured[all-docs]) (0.16.0)\n",
      "Requirement already satisfied: openpyxl in /Users/kade/.pyenv/versions/3.9.19/envs/langchain-study/lib/python3.9/site-packages (from unstructured[all-docs]) (3.1.2)\n",
      "Requirement already satisfied: pypandoc in /Users/kade/.pyenv/versions/3.9.19/envs/langchain-study/lib/python3.9/site-packages (from unstructured[all-docs]) (1.13)\n",
      "Requirement already satisfied: onnx in /Users/kade/.pyenv/versions/3.9.19/envs/langchain-study/lib/python3.9/site-packages (from unstructured[all-docs]) (1.16.1)\n",
      "Requirement already satisfied: pdf2image in /Users/kade/.pyenv/versions/3.9.19/envs/langchain-study/lib/python3.9/site-packages (from unstructured[all-docs]) (1.17.0)\n",
      "Requirement already satisfied: python-pptx<=0.6.23 in /Users/kade/.pyenv/versions/3.9.19/envs/langchain-study/lib/python3.9/site-packages (from unstructured[all-docs]) (0.6.23)\n",
      "Requirement already satisfied: pdfminer.six in /Users/kade/.pyenv/versions/3.9.19/envs/langchain-study/lib/python3.9/site-packages (from unstructured[all-docs]) (20231228)\n",
      "Requirement already satisfied: pypdf in /Users/kade/.pyenv/versions/3.9.19/envs/langchain-study/lib/python3.9/site-packages (from unstructured[all-docs]) (4.2.0)\n",
      "Requirement already satisfied: msg-parser in /Users/kade/.pyenv/versions/3.9.19/envs/langchain-study/lib/python3.9/site-packages (from unstructured[all-docs]) (1.2.0)\n",
      "Requirement already satisfied: networkx in /Users/kade/.pyenv/versions/3.9.19/envs/langchain-study/lib/python3.9/site-packages (from unstructured[all-docs]) (3.2.1)\n",
      "Requirement already satisfied: google-cloud-vision in /Users/kade/.pyenv/versions/3.9.19/envs/langchain-study/lib/python3.9/site-packages (from unstructured[all-docs]) (3.7.2)\n",
      "Requirement already satisfied: effdet in /Users/kade/.pyenv/versions/3.9.19/envs/langchain-study/lib/python3.9/site-packages (from unstructured[all-docs]) (0.4.1)\n",
      "Requirement already satisfied: layoutparser in /Users/kade/.pyenv/versions/3.9.19/envs/langchain-study/lib/python3.9/site-packages (from unstructured-inference==0.7.33->unstructured[all-docs]) (0.3.4)\n",
      "Requirement already satisfied: python-multipart in /Users/kade/.pyenv/versions/3.9.19/envs/langchain-study/lib/python3.9/site-packages (from unstructured-inference==0.7.33->unstructured[all-docs]) (0.0.9)\n",
      "Requirement already satisfied: huggingface-hub in /Users/kade/.pyenv/versions/3.9.19/envs/langchain-study/lib/python3.9/site-packages (from unstructured-inference==0.7.33->unstructured[all-docs]) (0.23.2)\n",
      "Requirement already satisfied: opencv-python!=4.7.0.68 in /Users/kade/.pyenv/versions/3.9.19/envs/langchain-study/lib/python3.9/site-packages (from unstructured-inference==0.7.33->unstructured[all-docs]) (4.9.0.80)\n",
      "Requirement already satisfied: onnxruntime>=1.17.0 in /Users/kade/.pyenv/versions/3.9.19/envs/langchain-study/lib/python3.9/site-packages (from unstructured-inference==0.7.33->unstructured[all-docs]) (1.18.0)\n",
      "Requirement already satisfied: torch in /Users/kade/.pyenv/versions/3.9.19/envs/langchain-study/lib/python3.9/site-packages (from unstructured-inference==0.7.33->unstructured[all-docs]) (2.3.0)\n",
      "Requirement already satisfied: timm in /Users/kade/.pyenv/versions/3.9.19/envs/langchain-study/lib/python3.9/site-packages (from unstructured-inference==0.7.33->unstructured[all-docs]) (1.0.3)\n",
      "Requirement already satisfied: transformers>=4.25.1 in /Users/kade/.pyenv/versions/3.9.19/envs/langchain-study/lib/python3.9/site-packages (from unstructured-inference==0.7.33->unstructured[all-docs]) (4.41.1)\n",
      "Requirement already satisfied: annotated-types>=0.4.0 in /Users/kade/.pyenv/versions/3.9.19/envs/langchain-study/lib/python3.9/site-packages (from pydantic) (0.7.0)\n",
      "Requirement already satisfied: pydantic-core==2.18.2 in /Users/kade/.pyenv/versions/3.9.19/envs/langchain-study/lib/python3.9/site-packages (from pydantic) (2.18.2)\n",
      "Requirement already satisfied: contourpy>=1.0.1 in /Users/kade/.pyenv/versions/3.9.19/envs/langchain-study/lib/python3.9/site-packages (from matplotlib) (1.2.1)\n",
      "Requirement already satisfied: cycler>=0.10 in /Users/kade/.pyenv/versions/3.9.19/envs/langchain-study/lib/python3.9/site-packages (from matplotlib) (0.12.1)\n",
      "Requirement already satisfied: fonttools>=4.22.0 in /Users/kade/.pyenv/versions/3.9.19/envs/langchain-study/lib/python3.9/site-packages (from matplotlib) (4.52.4)\n",
      "Requirement already satisfied: kiwisolver>=1.3.1 in /Users/kade/.pyenv/versions/3.9.19/envs/langchain-study/lib/python3.9/site-packages (from matplotlib) (1.4.5)\n",
      "Requirement already satisfied: packaging>=20.0 in /Users/kade/.pyenv/versions/3.9.19/envs/langchain-study/lib/python3.9/site-packages (from matplotlib) (23.2)\n",
      "Requirement already satisfied: pyparsing>=2.3.1 in /Users/kade/.pyenv/versions/3.9.19/envs/langchain-study/lib/python3.9/site-packages (from matplotlib) (3.1.2)\n",
      "Requirement already satisfied: python-dateutil>=2.7 in /Users/kade/.pyenv/versions/3.9.19/envs/langchain-study/lib/python3.9/site-packages (from matplotlib) (2.9.0.post0)\n",
      "Requirement already satisfied: importlib-resources>=3.2.0 in /Users/kade/.pyenv/versions/3.9.19/envs/langchain-study/lib/python3.9/site-packages (from matplotlib) (6.4.0)\n",
      "Requirement already satisfied: build>=1.0.3 in /Users/kade/.pyenv/versions/3.9.19/envs/langchain-study/lib/python3.9/site-packages (from chromadb) (1.2.1)\n",
      "Requirement already satisfied: chroma-hnswlib==0.7.3 in /Users/kade/.pyenv/versions/3.9.19/envs/langchain-study/lib/python3.9/site-packages (from chromadb) (0.7.3)\n",
      "Requirement already satisfied: fastapi>=0.95.2 in /Users/kade/.pyenv/versions/3.9.19/envs/langchain-study/lib/python3.9/site-packages (from chromadb) (0.111.0)\n",
      "Requirement already satisfied: uvicorn>=0.18.3 in /Users/kade/.pyenv/versions/3.9.19/envs/langchain-study/lib/python3.9/site-packages (from uvicorn[standard]>=0.18.3->chromadb) (0.29.0)\n",
      "Requirement already satisfied: posthog>=2.4.0 in /Users/kade/.pyenv/versions/3.9.19/envs/langchain-study/lib/python3.9/site-packages (from chromadb) (3.5.0)\n",
      "Requirement already satisfied: opentelemetry-api>=1.2.0 in /Users/kade/.pyenv/versions/3.9.19/envs/langchain-study/lib/python3.9/site-packages (from chromadb) (1.24.0)\n",
      "Requirement already satisfied: opentelemetry-exporter-otlp-proto-grpc>=1.2.0 in /Users/kade/.pyenv/versions/3.9.19/envs/langchain-study/lib/python3.9/site-packages (from chromadb) (1.24.0)\n",
      "Requirement already satisfied: opentelemetry-instrumentation-fastapi>=0.41b0 in /Users/kade/.pyenv/versions/3.9.19/envs/langchain-study/lib/python3.9/site-packages (from chromadb) (0.45b0)\n",
      "Requirement already satisfied: opentelemetry-sdk>=1.2.0 in /Users/kade/.pyenv/versions/3.9.19/envs/langchain-study/lib/python3.9/site-packages (from chromadb) (1.24.0)\n",
      "Requirement already satisfied: tokenizers>=0.13.2 in /Users/kade/.pyenv/versions/3.9.19/envs/langchain-study/lib/python3.9/site-packages (from chromadb) (0.19.1)\n",
      "Requirement already satisfied: pypika>=0.48.9 in /Users/kade/.pyenv/versions/3.9.19/envs/langchain-study/lib/python3.9/site-packages (from chromadb) (0.48.9)\n",
      "Requirement already satisfied: tqdm>=4.65.0 in /Users/kade/.pyenv/versions/3.9.19/envs/langchain-study/lib/python3.9/site-packages (from chromadb) (4.66.4)\n",
      "Requirement already satisfied: overrides>=7.3.1 in /Users/kade/.pyenv/versions/3.9.19/envs/langchain-study/lib/python3.9/site-packages (from chromadb) (7.7.0)\n",
      "Requirement already satisfied: grpcio>=1.58.0 in /Users/kade/.pyenv/versions/3.9.19/envs/langchain-study/lib/python3.9/site-packages (from chromadb) (1.64.0)\n",
      "Requirement already satisfied: bcrypt>=4.0.1 in /Users/kade/.pyenv/versions/3.9.19/envs/langchain-study/lib/python3.9/site-packages (from chromadb) (4.1.3)\n",
      "Requirement already satisfied: typer>=0.9.0 in /Users/kade/.pyenv/versions/3.9.19/envs/langchain-study/lib/python3.9/site-packages (from chromadb) (0.12.3)\n",
      "Requirement already satisfied: kubernetes>=28.1.0 in /Users/kade/.pyenv/versions/3.9.19/envs/langchain-study/lib/python3.9/site-packages (from chromadb) (29.0.0)\n",
      "Requirement already satisfied: tenacity>=8.2.3 in /Users/kade/.pyenv/versions/3.9.19/envs/langchain-study/lib/python3.9/site-packages (from chromadb) (8.3.0)\n",
      "Requirement already satisfied: PyYAML>=6.0.0 in /Users/kade/.pyenv/versions/3.9.19/envs/langchain-study/lib/python3.9/site-packages (from chromadb) (6.0.1)\n",
      "Requirement already satisfied: mmh3>=4.0.1 in /Users/kade/.pyenv/versions/3.9.19/envs/langchain-study/lib/python3.9/site-packages (from chromadb) (4.1.0)\n",
      "Requirement already satisfied: orjson>=3.9.12 in /Users/kade/.pyenv/versions/3.9.19/envs/langchain-study/lib/python3.9/site-packages (from chromadb) (3.10.3)\n",
      "Requirement already satisfied: regex>=2022.1.18 in /Users/kade/.pyenv/versions/3.9.19/envs/langchain-study/lib/python3.9/site-packages (from tiktoken) (2024.5.15)\n",
      "Requirement already satisfied: pyproject_hooks in /Users/kade/.pyenv/versions/3.9.19/envs/langchain-study/lib/python3.9/site-packages (from build>=1.0.3->chromadb) (1.1.0)\n",
      "Requirement already satisfied: importlib-metadata>=4.6 in /Users/kade/.pyenv/versions/3.9.19/envs/langchain-study/lib/python3.9/site-packages (from build>=1.0.3->chromadb) (7.0.0)\n",
      "Requirement already satisfied: tomli>=1.1.0 in /Users/kade/.pyenv/versions/3.9.19/envs/langchain-study/lib/python3.9/site-packages (from build>=1.0.3->chromadb) (2.0.1)\n",
      "Requirement already satisfied: starlette<0.38.0,>=0.37.2 in /Users/kade/.pyenv/versions/3.9.19/envs/langchain-study/lib/python3.9/site-packages (from fastapi>=0.95.2->chromadb) (0.37.2)\n",
      "Requirement already satisfied: fastapi-cli>=0.0.2 in /Users/kade/.pyenv/versions/3.9.19/envs/langchain-study/lib/python3.9/site-packages (from fastapi>=0.95.2->chromadb) (0.0.4)\n",
      "Requirement already satisfied: httpx>=0.23.0 in /Users/kade/.pyenv/versions/3.9.19/envs/langchain-study/lib/python3.9/site-packages (from fastapi>=0.95.2->chromadb) (0.27.0)\n",
      "Requirement already satisfied: jinja2>=2.11.2 in /Users/kade/.pyenv/versions/3.9.19/envs/langchain-study/lib/python3.9/site-packages (from fastapi>=0.95.2->chromadb) (3.1.4)\n",
      "Requirement already satisfied: ujson!=4.0.2,!=4.1.0,!=4.2.0,!=4.3.0,!=5.0.0,!=5.1.0,>=4.0.1 in /Users/kade/.pyenv/versions/3.9.19/envs/langchain-study/lib/python3.9/site-packages (from fastapi>=0.95.2->chromadb) (5.10.0)\n",
      "Requirement already satisfied: email_validator>=2.0.0 in /Users/kade/.pyenv/versions/3.9.19/envs/langchain-study/lib/python3.9/site-packages (from fastapi>=0.95.2->chromadb) (2.1.1)\n",
      "Requirement already satisfied: zipp>=3.1.0 in /Users/kade/.pyenv/versions/3.9.19/envs/langchain-study/lib/python3.9/site-packages (from importlib-resources>=3.2.0->matplotlib) (3.19.0)\n",
      "Requirement already satisfied: certifi>=14.05.14 in /Users/kade/.pyenv/versions/3.9.19/envs/langchain-study/lib/python3.9/site-packages (from kubernetes>=28.1.0->chromadb) (2024.2.2)\n",
      "Requirement already satisfied: six>=1.9.0 in /Users/kade/.pyenv/versions/3.9.19/envs/langchain-study/lib/python3.9/site-packages (from kubernetes>=28.1.0->chromadb) (1.16.0)\n",
      "Requirement already satisfied: google-auth>=1.0.1 in /Users/kade/.pyenv/versions/3.9.19/envs/langchain-study/lib/python3.9/site-packages (from kubernetes>=28.1.0->chromadb) (2.29.0)\n",
      "Requirement already satisfied: websocket-client!=0.40.0,!=0.41.*,!=0.42.*,>=0.32.0 in /Users/kade/.pyenv/versions/3.9.19/envs/langchain-study/lib/python3.9/site-packages (from kubernetes>=28.1.0->chromadb) (1.8.0)\n",
      "Requirement already satisfied: requests-oauthlib in /Users/kade/.pyenv/versions/3.9.19/envs/langchain-study/lib/python3.9/site-packages (from kubernetes>=28.1.0->chromadb) (2.0.0)\n",
      "Requirement already satisfied: oauthlib>=3.2.2 in /Users/kade/.pyenv/versions/3.9.19/envs/langchain-study/lib/python3.9/site-packages (from kubernetes>=28.1.0->chromadb) (3.2.2)\n",
      "Requirement already satisfied: urllib3>=1.24.2 in /Users/kade/.pyenv/versions/3.9.19/envs/langchain-study/lib/python3.9/site-packages (from kubernetes>=28.1.0->chromadb) (2.2.1)\n",
      "Requirement already satisfied: coloredlogs in /Users/kade/.pyenv/versions/3.9.19/envs/langchain-study/lib/python3.9/site-packages (from onnxruntime>=1.17.0->unstructured-inference==0.7.33->unstructured[all-docs]) (15.0.1)\n",
      "Requirement already satisfied: flatbuffers in /Users/kade/.pyenv/versions/3.9.19/envs/langchain-study/lib/python3.9/site-packages (from onnxruntime>=1.17.0->unstructured-inference==0.7.33->unstructured[all-docs]) (24.3.25)\n",
      "Requirement already satisfied: protobuf in /Users/kade/.pyenv/versions/3.9.19/envs/langchain-study/lib/python3.9/site-packages (from onnxruntime>=1.17.0->unstructured-inference==0.7.33->unstructured[all-docs]) (4.25.3)\n",
      "Requirement already satisfied: sympy in /Users/kade/.pyenv/versions/3.9.19/envs/langchain-study/lib/python3.9/site-packages (from onnxruntime>=1.17.0->unstructured-inference==0.7.33->unstructured[all-docs]) (1.12)\n",
      "Requirement already satisfied: deprecated>=1.2.6 in /Users/kade/.pyenv/versions/3.9.19/envs/langchain-study/lib/python3.9/site-packages (from opentelemetry-api>=1.2.0->chromadb) (1.2.14)\n",
      "Requirement already satisfied: googleapis-common-protos~=1.52 in /Users/kade/.pyenv/versions/3.9.19/envs/langchain-study/lib/python3.9/site-packages (from opentelemetry-exporter-otlp-proto-grpc>=1.2.0->chromadb) (1.63.0)\n",
      "Requirement already satisfied: opentelemetry-exporter-otlp-proto-common==1.24.0 in /Users/kade/.pyenv/versions/3.9.19/envs/langchain-study/lib/python3.9/site-packages (from opentelemetry-exporter-otlp-proto-grpc>=1.2.0->chromadb) (1.24.0)\n",
      "Requirement already satisfied: opentelemetry-proto==1.24.0 in /Users/kade/.pyenv/versions/3.9.19/envs/langchain-study/lib/python3.9/site-packages (from opentelemetry-exporter-otlp-proto-grpc>=1.2.0->chromadb) (1.24.0)\n",
      "Requirement already satisfied: opentelemetry-instrumentation-asgi==0.45b0 in /Users/kade/.pyenv/versions/3.9.19/envs/langchain-study/lib/python3.9/site-packages (from opentelemetry-instrumentation-fastapi>=0.41b0->chromadb) (0.45b0)\n",
      "Requirement already satisfied: opentelemetry-instrumentation==0.45b0 in /Users/kade/.pyenv/versions/3.9.19/envs/langchain-study/lib/python3.9/site-packages (from opentelemetry-instrumentation-fastapi>=0.41b0->chromadb) (0.45b0)\n",
      "Requirement already satisfied: opentelemetry-semantic-conventions==0.45b0 in /Users/kade/.pyenv/versions/3.9.19/envs/langchain-study/lib/python3.9/site-packages (from opentelemetry-instrumentation-fastapi>=0.41b0->chromadb) (0.45b0)\n",
      "Requirement already satisfied: opentelemetry-util-http==0.45b0 in /Users/kade/.pyenv/versions/3.9.19/envs/langchain-study/lib/python3.9/site-packages (from opentelemetry-instrumentation-fastapi>=0.41b0->chromadb) (0.45b0)\n",
      "Requirement already satisfied: setuptools>=16.0 in /Users/kade/.pyenv/versions/3.9.19/envs/langchain-study/lib/python3.9/site-packages (from opentelemetry-instrumentation==0.45b0->opentelemetry-instrumentation-fastapi>=0.41b0->chromadb) (58.1.0)\n",
      "Requirement already satisfied: asgiref~=3.0 in /Users/kade/.pyenv/versions/3.9.19/envs/langchain-study/lib/python3.9/site-packages (from opentelemetry-instrumentation-asgi==0.45b0->opentelemetry-instrumentation-fastapi>=0.41b0->chromadb) (3.8.1)\n",
      "Requirement already satisfied: monotonic>=1.5 in /Users/kade/.pyenv/versions/3.9.19/envs/langchain-study/lib/python3.9/site-packages (from posthog>=2.4.0->chromadb) (1.6)\n",
      "Requirement already satisfied: XlsxWriter>=0.5.7 in /Users/kade/.pyenv/versions/3.9.19/envs/langchain-study/lib/python3.9/site-packages (from python-pptx<=0.6.23->unstructured[all-docs]) (3.2.0)\n",
      "Requirement already satisfied: charset-normalizer<4,>=2 in /Users/kade/.pyenv/versions/3.9.19/envs/langchain-study/lib/python3.9/site-packages (from requests->unstructured[all-docs]) (3.3.2)\n",
      "Requirement already satisfied: idna<4,>=2.5 in /Users/kade/.pyenv/versions/3.9.19/envs/langchain-study/lib/python3.9/site-packages (from requests->unstructured[all-docs]) (3.7)\n",
      "Requirement already satisfied: click>=8.0.0 in /Users/kade/.pyenv/versions/3.9.19/envs/langchain-study/lib/python3.9/site-packages (from typer>=0.9.0->chromadb) (8.1.7)\n",
      "Requirement already satisfied: shellingham>=1.3.0 in /Users/kade/.pyenv/versions/3.9.19/envs/langchain-study/lib/python3.9/site-packages (from typer>=0.9.0->chromadb) (1.5.4)\n",
      "Requirement already satisfied: rich>=10.11.0 in /Users/kade/.pyenv/versions/3.9.19/envs/langchain-study/lib/python3.9/site-packages (from typer>=0.9.0->chromadb) (13.7.1)\n",
      "Requirement already satisfied: h11>=0.8 in /Users/kade/.pyenv/versions/3.9.19/envs/langchain-study/lib/python3.9/site-packages (from uvicorn>=0.18.3->uvicorn[standard]>=0.18.3->chromadb) (0.14.0)\n",
      "Requirement already satisfied: httptools>=0.5.0 in /Users/kade/.pyenv/versions/3.9.19/envs/langchain-study/lib/python3.9/site-packages (from uvicorn[standard]>=0.18.3->chromadb) (0.6.1)\n",
      "Requirement already satisfied: python-dotenv>=0.13 in /Users/kade/.pyenv/versions/3.9.19/envs/langchain-study/lib/python3.9/site-packages (from uvicorn[standard]>=0.18.3->chromadb) (1.0.1)\n",
      "Requirement already satisfied: uvloop!=0.15.0,!=0.15.1,>=0.14.0 in /Users/kade/.pyenv/versions/3.9.19/envs/langchain-study/lib/python3.9/site-packages (from uvicorn[standard]>=0.18.3->chromadb) (0.19.0)\n",
      "Requirement already satisfied: watchfiles>=0.13 in /Users/kade/.pyenv/versions/3.9.19/envs/langchain-study/lib/python3.9/site-packages (from uvicorn[standard]>=0.18.3->chromadb) (0.22.0)\n",
      "Requirement already satisfied: websockets>=10.4 in /Users/kade/.pyenv/versions/3.9.19/envs/langchain-study/lib/python3.9/site-packages (from uvicorn[standard]>=0.18.3->chromadb) (12.0)\n",
      "Requirement already satisfied: soupsieve>1.2 in /Users/kade/.pyenv/versions/3.9.19/envs/langchain-study/lib/python3.9/site-packages (from beautifulsoup4->unstructured[all-docs]) (2.5)\n",
      "Requirement already satisfied: marshmallow<4.0.0,>=3.18.0 in /Users/kade/.pyenv/versions/3.9.19/envs/langchain-study/lib/python3.9/site-packages (from dataclasses-json->unstructured[all-docs]) (3.21.2)\n",
      "Requirement already satisfied: typing-inspect<1,>=0.4.0 in /Users/kade/.pyenv/versions/3.9.19/envs/langchain-study/lib/python3.9/site-packages (from dataclasses-json->unstructured[all-docs]) (0.9.0)\n",
      "Requirement already satisfied: torchvision in /Users/kade/.pyenv/versions/3.9.19/envs/langchain-study/lib/python3.9/site-packages (from effdet->unstructured[all-docs]) (0.18.0)\n",
      "Requirement already satisfied: pycocotools>=2.0.2 in /Users/kade/.pyenv/versions/3.9.19/envs/langchain-study/lib/python3.9/site-packages (from effdet->unstructured[all-docs]) (2.0.7)\n",
      "Requirement already satisfied: omegaconf>=2.0 in /Users/kade/.pyenv/versions/3.9.19/envs/langchain-study/lib/python3.9/site-packages (from effdet->unstructured[all-docs]) (2.3.0)\n",
      "Requirement already satisfied: google-api-core!=2.0.*,!=2.1.*,!=2.10.*,!=2.2.*,!=2.3.*,!=2.4.*,!=2.5.*,!=2.6.*,!=2.7.*,!=2.8.*,!=2.9.*,<3.0.0dev,>=1.34.1 in /Users/kade/.pyenv/versions/3.9.19/envs/langchain-study/lib/python3.9/site-packages (from google-api-core[grpc]!=2.0.*,!=2.1.*,!=2.10.*,!=2.2.*,!=2.3.*,!=2.4.*,!=2.5.*,!=2.6.*,!=2.7.*,!=2.8.*,!=2.9.*,<3.0.0dev,>=1.34.1->google-cloud-vision->unstructured[all-docs]) (2.19.0)\n",
      "Requirement already satisfied: proto-plus<2.0.0dev,>=1.22.3 in /Users/kade/.pyenv/versions/3.9.19/envs/langchain-study/lib/python3.9/site-packages (from google-cloud-vision->unstructured[all-docs]) (1.23.0)\n",
      "Requirement already satisfied: olefile>=0.46 in /Users/kade/.pyenv/versions/3.9.19/envs/langchain-study/lib/python3.9/site-packages (from msg-parser->unstructured[all-docs]) (0.47)\n",
      "Requirement already satisfied: joblib in /Users/kade/.pyenv/versions/3.9.19/envs/langchain-study/lib/python3.9/site-packages (from nltk->unstructured[all-docs]) (1.4.2)\n",
      "Requirement already satisfied: et-xmlfile in /Users/kade/.pyenv/versions/3.9.19/envs/langchain-study/lib/python3.9/site-packages (from openpyxl->unstructured[all-docs]) (1.1.0)\n",
      "Requirement already satisfied: pytz>=2020.1 in /Users/kade/.pyenv/versions/3.9.19/envs/langchain-study/lib/python3.9/site-packages (from pandas->unstructured[all-docs]) (2024.1)\n",
      "Requirement already satisfied: tzdata>=2022.7 in /Users/kade/.pyenv/versions/3.9.19/envs/langchain-study/lib/python3.9/site-packages (from pandas->unstructured[all-docs]) (2024.1)\n",
      "Requirement already satisfied: cryptography>=36.0.0 in /Users/kade/.pyenv/versions/3.9.19/envs/langchain-study/lib/python3.9/site-packages (from pdfminer.six->unstructured[all-docs]) (42.0.7)\n",
      "Requirement already satisfied: deepdiff>=6.0 in /Users/kade/.pyenv/versions/3.9.19/envs/langchain-study/lib/python3.9/site-packages (from unstructured-client->unstructured[all-docs]) (7.0.1)\n",
      "Requirement already satisfied: jsonpath-python>=1.0.6 in /Users/kade/.pyenv/versions/3.9.19/envs/langchain-study/lib/python3.9/site-packages (from unstructured-client->unstructured[all-docs]) (1.0.6)\n",
      "Requirement already satisfied: mypy-extensions>=1.0.0 in /Users/kade/.pyenv/versions/3.9.19/envs/langchain-study/lib/python3.9/site-packages (from unstructured-client->unstructured[all-docs]) (1.0.0)\n",
      "Requirement already satisfied: cffi>=1.12 in /Users/kade/.pyenv/versions/3.9.19/envs/langchain-study/lib/python3.9/site-packages (from cryptography>=36.0.0->pdfminer.six->unstructured[all-docs]) (1.16.0)\n",
      "Requirement already satisfied: ordered-set<4.2.0,>=4.1.0 in /Users/kade/.pyenv/versions/3.9.19/envs/langchain-study/lib/python3.9/site-packages (from deepdiff>=6.0->unstructured-client->unstructured[all-docs]) (4.1.0)\n",
      "Requirement already satisfied: dnspython>=2.0.0 in /Users/kade/.pyenv/versions/3.9.19/envs/langchain-study/lib/python3.9/site-packages (from email_validator>=2.0.0->fastapi>=0.95.2->chromadb) (2.6.1)\n",
      "Requirement already satisfied: grpcio-status<2.0.dev0,>=1.33.2 in /Users/kade/.pyenv/versions/3.9.19/envs/langchain-study/lib/python3.9/site-packages (from google-api-core[grpc]!=2.0.*,!=2.1.*,!=2.10.*,!=2.2.*,!=2.3.*,!=2.4.*,!=2.5.*,!=2.6.*,!=2.7.*,!=2.8.*,!=2.9.*,<3.0.0dev,>=1.34.1->google-cloud-vision->unstructured[all-docs]) (1.62.2)\n",
      "Requirement already satisfied: cachetools<6.0,>=2.0.0 in /Users/kade/.pyenv/versions/3.9.19/envs/langchain-study/lib/python3.9/site-packages (from google-auth>=1.0.1->kubernetes>=28.1.0->chromadb) (5.3.3)\n",
      "Requirement already satisfied: pyasn1-modules>=0.2.1 in /Users/kade/.pyenv/versions/3.9.19/envs/langchain-study/lib/python3.9/site-packages (from google-auth>=1.0.1->kubernetes>=28.1.0->chromadb) (0.4.0)\n",
      "Requirement already satisfied: rsa<5,>=3.1.4 in /Users/kade/.pyenv/versions/3.9.19/envs/langchain-study/lib/python3.9/site-packages (from google-auth>=1.0.1->kubernetes>=28.1.0->chromadb) (4.9)\n",
      "Requirement already satisfied: anyio in /Users/kade/.pyenv/versions/3.9.19/envs/langchain-study/lib/python3.9/site-packages (from httpx>=0.23.0->fastapi>=0.95.2->chromadb) (4.4.0)\n",
      "Requirement already satisfied: httpcore==1.* in /Users/kade/.pyenv/versions/3.9.19/envs/langchain-study/lib/python3.9/site-packages (from httpx>=0.23.0->fastapi>=0.95.2->chromadb) (1.0.5)\n",
      "Requirement already satisfied: sniffio in /Users/kade/.pyenv/versions/3.9.19/envs/langchain-study/lib/python3.9/site-packages (from httpx>=0.23.0->fastapi>=0.95.2->chromadb) (1.3.1)\n",
      "Requirement already satisfied: filelock in /Users/kade/.pyenv/versions/3.9.19/envs/langchain-study/lib/python3.9/site-packages (from huggingface-hub->unstructured-inference==0.7.33->unstructured[all-docs]) (3.14.0)\n",
      "Requirement already satisfied: fsspec>=2023.5.0 in /Users/kade/.pyenv/versions/3.9.19/envs/langchain-study/lib/python3.9/site-packages (from huggingface-hub->unstructured-inference==0.7.33->unstructured[all-docs]) (2024.5.0)\n",
      "Requirement already satisfied: MarkupSafe>=2.0 in /Users/kade/.pyenv/versions/3.9.19/envs/langchain-study/lib/python3.9/site-packages (from jinja2>=2.11.2->fastapi>=0.95.2->chromadb) (2.1.5)\n",
      "Requirement already satisfied: antlr4-python3-runtime==4.9.* in /Users/kade/.pyenv/versions/3.9.19/envs/langchain-study/lib/python3.9/site-packages (from omegaconf>=2.0->effdet->unstructured[all-docs]) (4.9.3)\n",
      "Requirement already satisfied: markdown-it-py>=2.2.0 in /Users/kade/.pyenv/versions/3.9.19/envs/langchain-study/lib/python3.9/site-packages (from rich>=10.11.0->typer>=0.9.0->chromadb) (3.0.0)\n",
      "Requirement already satisfied: pygments<3.0.0,>=2.13.0 in /Users/kade/.pyenv/versions/3.9.19/envs/langchain-study/lib/python3.9/site-packages (from rich>=10.11.0->typer>=0.9.0->chromadb) (2.18.0)\n",
      "Requirement already satisfied: safetensors in /Users/kade/.pyenv/versions/3.9.19/envs/langchain-study/lib/python3.9/site-packages (from timm->unstructured-inference==0.7.33->unstructured[all-docs]) (0.4.3)\n",
      "Requirement already satisfied: humanfriendly>=9.1 in /Users/kade/.pyenv/versions/3.9.19/envs/langchain-study/lib/python3.9/site-packages (from coloredlogs->onnxruntime>=1.17.0->unstructured-inference==0.7.33->unstructured[all-docs]) (10.0)\n",
      "Requirement already satisfied: scipy in /Users/kade/.pyenv/versions/3.9.19/envs/langchain-study/lib/python3.9/site-packages (from layoutparser->unstructured-inference==0.7.33->unstructured[all-docs]) (1.13.1)\n",
      "Requirement already satisfied: iopath in /Users/kade/.pyenv/versions/3.9.19/envs/langchain-study/lib/python3.9/site-packages (from layoutparser->unstructured-inference==0.7.33->unstructured[all-docs]) (0.1.10)\n",
      "Requirement already satisfied: pdfplumber in /Users/kade/.pyenv/versions/3.9.19/envs/langchain-study/lib/python3.9/site-packages (from layoutparser->unstructured-inference==0.7.33->unstructured[all-docs]) (0.11.0)\n",
      "Requirement already satisfied: mpmath>=0.19 in /Users/kade/.pyenv/versions/3.9.19/envs/langchain-study/lib/python3.9/site-packages (from sympy->onnxruntime>=1.17.0->unstructured-inference==0.7.33->unstructured[all-docs]) (1.3.0)\n",
      "Requirement already satisfied: exceptiongroup>=1.0.2 in /Users/kade/.pyenv/versions/3.9.19/envs/langchain-study/lib/python3.9/site-packages (from anyio->httpx>=0.23.0->fastapi>=0.95.2->chromadb) (1.2.1)\n",
      "Requirement already satisfied: pycparser in /Users/kade/.pyenv/versions/3.9.19/envs/langchain-study/lib/python3.9/site-packages (from cffi>=1.12->cryptography>=36.0.0->pdfminer.six->unstructured[all-docs]) (2.22)\n",
      "Requirement already satisfied: mdurl~=0.1 in /Users/kade/.pyenv/versions/3.9.19/envs/langchain-study/lib/python3.9/site-packages (from markdown-it-py>=2.2.0->rich>=10.11.0->typer>=0.9.0->chromadb) (0.1.2)\n",
      "Requirement already satisfied: pyasn1<0.7.0,>=0.4.6 in /Users/kade/.pyenv/versions/3.9.19/envs/langchain-study/lib/python3.9/site-packages (from pyasn1-modules>=0.2.1->google-auth>=1.0.1->kubernetes>=28.1.0->chromadb) (0.6.0)\n",
      "Requirement already satisfied: portalocker in /Users/kade/.pyenv/versions/3.9.19/envs/langchain-study/lib/python3.9/site-packages (from iopath->layoutparser->unstructured-inference==0.7.33->unstructured[all-docs]) (2.8.2)\n",
      "Requirement already satisfied: pypdfium2>=4.18.0 in /Users/kade/.pyenv/versions/3.9.19/envs/langchain-study/lib/python3.9/site-packages (from pdfplumber->layoutparser->unstructured-inference==0.7.33->unstructured[all-docs]) (4.30.0)\n"
     ]
    }
   ],
   "source": [
    "! pip install \"unstructured[all-docs]\" pillow pydantic lxml pillow matplotlib chromadb tiktoken\n",
    "# ! brew install poppler\n",
    "# ! brew install tesseract"
   ]
  },
  {
   "cell_type": "code",
   "execution_count": 3,
   "metadata": {},
   "outputs": [],
   "source": [
    "from typing import Any\n",
    "\n",
    "from pydantic import BaseModel\n",
    "from unstructured.partition.pdf import partition_pdf\n",
    "\n",
    "from langchain_core.output_parsers import StrOutputParser\n",
    "from langchain_core.prompts import ChatPromptTemplate\n",
    "from langchain_openai import ChatOpenAI\n",
    "\n",
    "import uuid\n",
    "\n",
    "from langchain.retrievers.multi_vector import MultiVectorRetriever\n",
    "from langchain.storage import InMemoryStore\n",
    "from langchain_community.vectorstores import Chroma\n",
    "from langchain_core.documents import Document\n",
    "from langchain_openai import OpenAIEmbeddings\n",
    "from langchain_core.runnables import RunnablePassthrough"
   ]
  },
  {
   "cell_type": "code",
   "execution_count": 4,
   "metadata": {},
   "outputs": [
    {
     "name": "stderr",
     "output_type": "stream",
     "text": [
      "Some weights of the model checkpoint at microsoft/table-transformer-structure-recognition were not used when initializing TableTransformerForObjectDetection: ['model.backbone.conv_encoder.model.layer2.0.downsample.1.num_batches_tracked', 'model.backbone.conv_encoder.model.layer3.0.downsample.1.num_batches_tracked', 'model.backbone.conv_encoder.model.layer4.0.downsample.1.num_batches_tracked']\n",
      "- This IS expected if you are initializing TableTransformerForObjectDetection from the checkpoint of a model trained on another task or with another architecture (e.g. initializing a BertForSequenceClassification model from a BertForPreTraining model).\n",
      "- This IS NOT expected if you are initializing TableTransformerForObjectDetection from the checkpoint of a model that you expect to be exactly identical (initializing a BertForSequenceClassification model from a BertForSequenceClassification model).\n"
     ]
    }
   ],
   "source": [
    "import os\n",
    "\n",
    "path=\"./data/\"\n",
    "\n",
    "raw_pdf_elements = partition_pdf(\n",
    "    filename=os.path.join(path, \"gs.pdf\"),\n",
    "    extract_images_in_pdf=False,\n",
    "    infer_table_structure=True,\n",
    "    chunking_strategy=\"by_title\",\n",
    "    max_characters=4000,\n",
    "    new_after_n_chars=3800,\n",
    "    combine_text_under_n_chars=2000,\n",
    "    image_output_dir_path=path,\n",
    ")"
   ]
  },
  {
   "cell_type": "code",
   "execution_count": 5,
   "metadata": {},
   "outputs": [
    {
     "data": {
      "text/plain": [
       "{\"<class 'unstructured.documents.elements.CompositeElement'>\",\n",
       " \"<class 'unstructured.documents.elements.Table'>\"}"
      ]
     },
     "execution_count": 5,
     "metadata": {},
     "output_type": "execute_result"
    }
   ],
   "source": [
    "set([str(type(x)) for x in raw_pdf_elements])"
   ]
  },
  {
   "cell_type": "code",
   "execution_count": 6,
   "metadata": {},
   "outputs": [
    {
     "name": "stdout",
     "output_type": "stream",
     "text": [
      "{\"<class 'unstructured.documents.elements.CompositeElement'>\": 8, \"<class 'unstructured.documents.elements.Table'>\": 7}\n",
      "{\"<class 'unstructured.documents.elements.CompositeElement'>\", \"<class 'unstructured.documents.elements.Table'>\"}\n"
     ]
    }
   ],
   "source": [
    "category_counts = {}\n",
    "\n",
    "for element in raw_pdf_elements:\n",
    "    category = str(type(element))\n",
    "    if category in category_counts:\n",
    "        category_counts[category] += 1\n",
    "    else:\n",
    "        category_counts[category] = 1\n",
    "\n",
    "unique_categories = set(category_counts.keys())\n",
    "print(category_counts)\n",
    "print(unique_categories)"
   ]
  },
  {
   "cell_type": "code",
   "execution_count": 7,
   "metadata": {},
   "outputs": [
    {
     "name": "stdout",
     "output_type": "stream",
     "text": [
      "7\n",
      "8\n"
     ]
    }
   ],
   "source": [
    "class Element(BaseModel):\n",
    "    type: str\n",
    "    text: Any\n",
    "\n",
    "\n",
    "categorized_elements = []\n",
    "for element in raw_pdf_elements:\n",
    "    if \"unstructured.documents.elements.Table\" in str(type(element)):\n",
    "        categorized_elements.append(Element(type=\"table\", text=str(element)))\n",
    "    elif \"unstructured.documents.elements.CompositeElement\" in str(type(element)):\n",
    "        categorized_elements.append(Element(type=\"text\", text=str(element)))\n",
    "\n",
    "table_elements = [e for e in categorized_elements if e.type == \"table\"]\n",
    "print(len(table_elements))\n",
    "\n",
    "text_elements = [e for e in categorized_elements if e.type == \"text\"]\n",
    "print(len(text_elements))"
   ]
  },
  {
   "cell_type": "code",
   "execution_count": 8,
   "metadata": {},
   "outputs": [],
   "source": [
    "prompt_text = \"\"\"You are an assistant tasked with summarizing tables and text in Korean. \\\n",
    "Give a concise summary of the table or text. Table or text chunk: {element} \"\"\"\n",
    "prompt = ChatPromptTemplate.from_template(prompt_text)\n",
    "model = ChatOpenAI(temperature=0, model=\"gpt-4o\")\n",
    "summarize_chain = {\"element\": lambda x: x} | prompt | model | StrOutputParser()"
   ]
  },
  {
   "cell_type": "code",
   "execution_count": 9,
   "metadata": {},
   "outputs": [],
   "source": [
    "tables = [i.text for i in table_elements]\n",
    "table_summaries = summarize_chain.batch(tables, {\"max_concurrency\": 5})\n",
    "texts = [i.text for i in text_elements]\n",
    "text_summaries = summarize_chain.batch(texts, {\"max_concurrency\": 5})"
   ]
  },
  {
   "cell_type": "code",
   "execution_count": 10,
   "metadata": {},
   "outputs": [
    {
     "name": "stdout",
     "output_type": "stream",
     "text": [
      "page_content='2023년 8월 25일 개정된 복리후생 규정의 목차는 다음과 같습니다:\\n\\n1. 총칙: 규정의 목적과 적용 범위 설명\\n2. 건강검진: 검진 기준 등\\n3. 의료비 지원\\n4. 경조금 및 경조 휴가\\n5. 학자금 지원\\n6. 장기근속포상\\n7. 카페테리아\\n8. 상해보험\\n9. 개인퇴직연금(IRP) 지원\\n10. 주택 자금 대출\\n\\n이 규정은 ㈜GS 소속 전 임직원에게 적용되며, 임원 및 사원의 복리증진을 목적으로 합니다.' metadata={'doc_id': '833c0e38-6938-43c3-ba41-9de10f2f019e'}\n",
      "page_content='이 표는 건강 검진 대상자와 실시 시기를 요약한 것입니다. 본인은 1년에 한 번, 임원 배우자는 1년에 한 번 종합검진을 받습니다. 만 35세 이상의 직원은 1년에 한 번, 그 배우자는 2년에 한 번 종합검진을 받습니다. 만 34세 이하의 임직원은 1년에 한 번 일반검진을 받습니다.' metadata={'doc_id': '7e84ff00-dd11-4f33-b8a2-e4dd45545a05'}\n"
     ]
    }
   ],
   "source": [
    "id_key = \"doc_id\"\n",
    "\n",
    "# texts\n",
    "doc_ids = [str(uuid.uuid4()) for _ in texts]\n",
    "summary_texts = [\n",
    "    Document(page_content=s, metadata={id_key: doc_ids[i]})\n",
    "    for i, s in enumerate(text_summaries)\n",
    "]\n",
    "\n",
    "# tables\n",
    "table_ids = [str(uuid.uuid4()) for _ in tables]\n",
    "summary_tables = [\n",
    "    Document(page_content=s, metadata={id_key: table_ids[i]})\n",
    "    for i, s in enumerate(table_summaries)\n",
    "]\n",
    "\n",
    "print(summary_texts[0])\n",
    "print(summary_tables[0])"
   ]
  },
  {
   "cell_type": "code",
   "execution_count": 11,
   "metadata": {},
   "outputs": [],
   "source": [
    "# MultiVectorRetriever\n",
    "\n",
    "# 상위 문서를 저장합니다: 상위 문서는 바이트 저장소(일반적으로 InMemoryStore의 인스턴스)에 저장됩니다.\n",
    "# 이 저장소 계층은 여러 개의 하위 문서를 포함할 수 있는 전체 상위 문서를 유지합니다.\n",
    "store = InMemoryStore()\n",
    "\n",
    "# 하위 문서를 저장합니다: 그런 다음 하위 문서는 OpenAIEmbeddings()와 같은 임베딩 함수를 사용하여 벡터 임베딩으로 변환됩니다. \n",
    "# 벡터 임베딩은 이러한 임베딩을 관리하기 위한 벡터 저장소 역할을 하는 Chroma 클래스의 인스턴스에 저장됩니다.\n",
    "vectorstore = Chroma(collection_name=\"summaries\", embedding_function=OpenAIEmbeddings())\n",
    "\n",
    "retriever = MultiVectorRetriever(\n",
    "    vectorstore=vectorstore,\n",
    "    docstore=store,\n",
    "    id_key=id_key,\n",
    ")\n",
    "\n",
    "retriever.vectorstore.add_documents(summary_texts)\n",
    "retriever.docstore.mset(list(zip(doc_ids, texts)))\n",
    "\n",
    "retriever.vectorstore.add_documents(summary_tables)\n",
    "retriever.docstore.mset(list(zip(table_ids, tables)))"
   ]
  },
  {
   "cell_type": "code",
   "execution_count": 12,
   "metadata": {},
   "outputs": [],
   "source": [
    "template = \"\"\"Answer the question based only on the following context in Korean, which can include text and tables: {context}\n",
    "Question: {question}\n",
    "\"\"\"\n",
    "prompt = ChatPromptTemplate.from_template(template)\n",
    "model = ChatOpenAI(temperature=0, model=\"gpt-4o\")\n",
    "\n",
    "chain = (\n",
    "    {\"context\": retriever, \"question\": RunnablePassthrough()}\n",
    "    | prompt\n",
    "    | model\n",
    "    | StrOutputParser()\n",
    ")"
   ]
  },
  {
   "cell_type": "code",
   "execution_count": 13,
   "metadata": {},
   "outputs": [
    {
     "data": {
      "text/plain": [
       "'본인 결혼 휴가는 5일이야.'"
      ]
     },
     "execution_count": 13,
     "metadata": {},
     "output_type": "execute_result"
    }
   ],
   "source": [
    "chain.invoke(\"본인 결혼 휴가는 몇일이야?\")"
   ]
  },
  {
   "cell_type": "code",
   "execution_count": 14,
   "metadata": {},
   "outputs": [
    {
     "data": {
      "text/plain": [
       "'의료비 지원에서 치과 보철의 적용율은 50%입니다.'"
      ]
     },
     "execution_count": 14,
     "metadata": {},
     "output_type": "execute_result"
    }
   ],
   "source": [
    "chain.invoke(\"의료비 지원에서 치과 보철의 적용율은?\")"
   ]
  },
  {
   "cell_type": "code",
   "execution_count": 15,
   "metadata": {},
   "outputs": [
    {
     "data": {
      "text/plain": [
       "'의료비 지원에서 성형은 지원 제외 항목에 해당하므로 적용율은 0%입니다.'"
      ]
     },
     "execution_count": 15,
     "metadata": {},
     "output_type": "execute_result"
    }
   ],
   "source": [
    "chain.invoke(\"의료비 지원에서 성형 적용율은?\")"
   ]
  }
 ],
 "metadata": {
  "kernelspec": {
   "display_name": "langchain-study",
   "language": "python",
   "name": "python3"
  },
  "language_info": {
   "codemirror_mode": {
    "name": "ipython",
    "version": 3
   },
   "file_extension": ".py",
   "mimetype": "text/x-python",
   "name": "python",
   "nbconvert_exporter": "python",
   "pygments_lexer": "ipython3",
   "version": "3.9.19"
  }
 },
 "nbformat": 4,
 "nbformat_minor": 2
}
